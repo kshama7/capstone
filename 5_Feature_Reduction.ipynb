{
 "cells": [
  {
   "cell_type": "markdown",
   "metadata": {},
   "source": [
    "# Portfolio Optimization using Deep Reinforcement Learning\n",
    "---"
   ]
  },
  {
   "cell_type": "markdown",
   "metadata": {},
   "source": [
    "## 5.0 Feature Reduction\n",
    "---\n",
    "\n",
    "Autoencoders are used to reduce the number of technical indicators to be represented by only two features"
   ]
  },
  {
   "cell_type": "markdown",
   "metadata": {},
   "source": [
    "### 5.1 Import Relevant Libraries"
   ]
  },
  {
   "cell_type": "code",
   "execution_count": 155,
   "metadata": {},
   "outputs": [
    {
     "name": "stdout",
     "output_type": "stream",
     "text": [
      "Requirement already satisfied: finrl in /Library/Frameworks/Python.framework/Versions/3.10/lib/python3.10/site-packages (0.3.6)\n",
      "Collecting elegantrl@ git+https://github.com/AI4Finance-Foundation/ElegantRL.git#egg=elegantrl (from finrl)\n",
      "  Cloning https://github.com/AI4Finance-Foundation/ElegantRL.git to /private/var/folders/3z/6b2hp23s5sg2j9x4jt4hyh_80000gn/T/pip-install-4pjbv9xy/elegantrl_72e05af7a63d4229997980283a116803\n",
      "  Running command git clone --quiet https://github.com/AI4Finance-Foundation/ElegantRL.git /private/var/folders/3z/6b2hp23s5sg2j9x4jt4hyh_80000gn/T/pip-install-4pjbv9xy/elegantrl_72e05af7a63d4229997980283a116803\n",
      "  Resolved https://github.com/AI4Finance-Foundation/ElegantRL.git to commit a531d493b710a872a4943532872846e00ad96abf\n",
      "  Preparing metadata (setup.py) ... \u001b[?25ldone\n",
      "\u001b[?25hRequirement already satisfied: alpaca-trade-api<4,>=3 in /Library/Frameworks/Python.framework/Versions/3.10/lib/python3.10/site-packages (from finrl) (3.2.0)\n",
      "Requirement already satisfied: ccxt<4,>=3 in /Library/Frameworks/Python.framework/Versions/3.10/lib/python3.10/site-packages (from finrl) (3.1.60)\n",
      "Requirement already satisfied: exchange-calendars<5,>=4 in /Library/Frameworks/Python.framework/Versions/3.10/lib/python3.10/site-packages (from finrl) (4.5.3)\n",
      "Requirement already satisfied: jqdatasdk<2,>=1 in /Library/Frameworks/Python.framework/Versions/3.10/lib/python3.10/site-packages (from finrl) (1.9.3)\n",
      "Requirement already satisfied: pyfolio<0.10,>=0.9 in /Library/Frameworks/Python.framework/Versions/3.10/lib/python3.10/site-packages (from finrl) (0.9.2+75.g4b901f6)\n",
      "Requirement already satisfied: pyportfolioopt<2,>=1 in /Library/Frameworks/Python.framework/Versions/3.10/lib/python3.10/site-packages (from finrl) (1.5.5)\n",
      "Requirement already satisfied: ray<3,>=2 in /Library/Frameworks/Python.framework/Versions/3.10/lib/python3.10/site-packages (from ray[default,tune]<3,>=2->finrl) (2.10.0)\n",
      "Requirement already satisfied: scikit-learn<2,>=1 in /Library/Frameworks/Python.framework/Versions/3.10/lib/python3.10/site-packages (from finrl) (1.4.1.post1)\n",
      "Requirement already satisfied: stable-baselines3>=2.0.0a5 in /Library/Frameworks/Python.framework/Versions/3.10/lib/python3.10/site-packages (from stable-baselines3[extra]>=2.0.0a5->finrl) (2.3.0a4)\n",
      "Requirement already satisfied: stockstats<0.6,>=0.5 in /Library/Frameworks/Python.framework/Versions/3.10/lib/python3.10/site-packages (from finrl) (0.5.4)\n",
      "Requirement already satisfied: wrds<4,>=3 in /Library/Frameworks/Python.framework/Versions/3.10/lib/python3.10/site-packages (from finrl) (3.2.0)\n",
      "Requirement already satisfied: yfinance<0.3,>=0.2 in /Library/Frameworks/Python.framework/Versions/3.10/lib/python3.10/site-packages (from finrl) (0.2.37)\n",
      "Requirement already satisfied: pandas>=0.18.1 in /Library/Frameworks/Python.framework/Versions/3.10/lib/python3.10/site-packages (from alpaca-trade-api<4,>=3->finrl) (2.2.1)\n",
      "Requirement already satisfied: numpy>=1.11.1 in /Library/Frameworks/Python.framework/Versions/3.10/lib/python3.10/site-packages (from alpaca-trade-api<4,>=3->finrl) (1.26.4)\n",
      "Requirement already satisfied: requests<3,>2 in /Library/Frameworks/Python.framework/Versions/3.10/lib/python3.10/site-packages (from alpaca-trade-api<4,>=3->finrl) (2.31.0)\n",
      "Requirement already satisfied: urllib3<2,>1.24 in /Library/Frameworks/Python.framework/Versions/3.10/lib/python3.10/site-packages (from alpaca-trade-api<4,>=3->finrl) (1.26.18)\n",
      "Requirement already satisfied: websocket-client<2,>=0.56.0 in /Library/Frameworks/Python.framework/Versions/3.10/lib/python3.10/site-packages (from alpaca-trade-api<4,>=3->finrl) (1.7.0)\n",
      "Requirement already satisfied: websockets<11,>=9.0 in /Library/Frameworks/Python.framework/Versions/3.10/lib/python3.10/site-packages (from alpaca-trade-api<4,>=3->finrl) (10.4)\n",
      "Requirement already satisfied: msgpack==1.0.3 in /Library/Frameworks/Python.framework/Versions/3.10/lib/python3.10/site-packages (from alpaca-trade-api<4,>=3->finrl) (1.0.3)\n",
      "Requirement already satisfied: aiohttp<4,>=3.8.3 in /Library/Frameworks/Python.framework/Versions/3.10/lib/python3.10/site-packages (from alpaca-trade-api<4,>=3->finrl) (3.9.3)\n",
      "Requirement already satisfied: PyYAML==6.0.1 in /Library/Frameworks/Python.framework/Versions/3.10/lib/python3.10/site-packages (from alpaca-trade-api<4,>=3->finrl) (6.0.1)\n",
      "Requirement already satisfied: deprecation==2.1.0 in /Library/Frameworks/Python.framework/Versions/3.10/lib/python3.10/site-packages (from alpaca-trade-api<4,>=3->finrl) (2.1.0)\n",
      "Requirement already satisfied: packaging in /Library/Frameworks/Python.framework/Versions/3.10/lib/python3.10/site-packages (from deprecation==2.1.0->alpaca-trade-api<4,>=3->finrl) (23.2)\n",
      "Requirement already satisfied: setuptools>=60.9.0 in /Library/Frameworks/Python.framework/Versions/3.10/lib/python3.10/site-packages (from ccxt<4,>=3->finrl) (69.2.0)\n",
      "Requirement already satisfied: certifi>=2018.1.18 in /Library/Frameworks/Python.framework/Versions/3.10/lib/python3.10/site-packages (from ccxt<4,>=3->finrl) (2024.2.2)\n",
      "Requirement already satisfied: cryptography>=2.6.1 in /Library/Frameworks/Python.framework/Versions/3.10/lib/python3.10/site-packages (from ccxt<4,>=3->finrl) (42.0.5)\n",
      "Requirement already satisfied: aiodns>=1.1.1 in /Library/Frameworks/Python.framework/Versions/3.10/lib/python3.10/site-packages (from ccxt<4,>=3->finrl) (3.1.1)\n",
      "Requirement already satisfied: yarl>=1.7.2 in /Library/Frameworks/Python.framework/Versions/3.10/lib/python3.10/site-packages (from ccxt<4,>=3->finrl) (1.9.4)\n",
      "Requirement already satisfied: pyluach in /Library/Frameworks/Python.framework/Versions/3.10/lib/python3.10/site-packages (from exchange-calendars<5,>=4->finrl) (2.2.0)\n",
      "Requirement already satisfied: toolz in /Library/Frameworks/Python.framework/Versions/3.10/lib/python3.10/site-packages (from exchange-calendars<5,>=4->finrl) (0.12.1)\n",
      "Requirement already satisfied: tzdata in /Library/Frameworks/Python.framework/Versions/3.10/lib/python3.10/site-packages (from exchange-calendars<5,>=4->finrl) (2024.1)\n",
      "Requirement already satisfied: korean-lunar-calendar in /Library/Frameworks/Python.framework/Versions/3.10/lib/python3.10/site-packages (from exchange-calendars<5,>=4->finrl) (0.3.1)\n",
      "Requirement already satisfied: six in /Users/kshama/Library/Python/3.10/lib/python/site-packages (from jqdatasdk<2,>=1->finrl) (1.16.0)\n",
      "Requirement already satisfied: SQLAlchemy>=1.2.8 in /Library/Frameworks/Python.framework/Versions/3.10/lib/python3.10/site-packages (from jqdatasdk<2,>=1->finrl) (2.0.29)\n",
      "Requirement already satisfied: thriftpy2>=0.3.9 in /Library/Frameworks/Python.framework/Versions/3.10/lib/python3.10/site-packages (from jqdatasdk<2,>=1->finrl) (0.4.20)\n",
      "Requirement already satisfied: pymysql>=0.7.6 in /Library/Frameworks/Python.framework/Versions/3.10/lib/python3.10/site-packages (from jqdatasdk<2,>=1->finrl) (1.1.0)\n",
      "Requirement already satisfied: ipython>=3.2.3 in /Users/kshama/Library/Python/3.10/lib/python/site-packages (from pyfolio<0.10,>=0.9->finrl) (8.22.2)\n",
      "Requirement already satisfied: matplotlib>=1.4.0 in /Library/Frameworks/Python.framework/Versions/3.10/lib/python3.10/site-packages (from pyfolio<0.10,>=0.9->finrl) (3.8.3)\n",
      "Requirement already satisfied: pytz>=2014.10 in /Library/Frameworks/Python.framework/Versions/3.10/lib/python3.10/site-packages (from pyfolio<0.10,>=0.9->finrl) (2024.1)\n",
      "Requirement already satisfied: scipy>=0.14.0 in /Library/Frameworks/Python.framework/Versions/3.10/lib/python3.10/site-packages (from pyfolio<0.10,>=0.9->finrl) (1.12.0)\n",
      "Requirement already satisfied: seaborn>=0.7.1 in /Library/Frameworks/Python.framework/Versions/3.10/lib/python3.10/site-packages (from pyfolio<0.10,>=0.9->finrl) (0.13.2)\n",
      "Requirement already satisfied: empyrical>=0.5.0 in /Library/Frameworks/Python.framework/Versions/3.10/lib/python3.10/site-packages (from pyfolio<0.10,>=0.9->finrl) (0.5.5)\n",
      "Requirement already satisfied: cvxpy<2.0.0,>=1.1.19 in /Library/Frameworks/Python.framework/Versions/3.10/lib/python3.10/site-packages (from pyportfolioopt<2,>=1->finrl) (1.4.2)\n",
      "Requirement already satisfied: click>=7.0 in /Library/Frameworks/Python.framework/Versions/3.10/lib/python3.10/site-packages (from ray<3,>=2->ray[default,tune]<3,>=2->finrl) (8.1.7)\n",
      "Requirement already satisfied: filelock in /Library/Frameworks/Python.framework/Versions/3.10/lib/python3.10/site-packages (from ray<3,>=2->ray[default,tune]<3,>=2->finrl) (3.13.3)\n",
      "Requirement already satisfied: jsonschema in /Library/Frameworks/Python.framework/Versions/3.10/lib/python3.10/site-packages (from ray<3,>=2->ray[default,tune]<3,>=2->finrl) (4.21.1)\n",
      "Requirement already satisfied: protobuf!=3.19.5,>=3.15.3 in /Library/Frameworks/Python.framework/Versions/3.10/lib/python3.10/site-packages (from ray<3,>=2->ray[default,tune]<3,>=2->finrl) (4.25.3)\n",
      "Requirement already satisfied: aiosignal in /Library/Frameworks/Python.framework/Versions/3.10/lib/python3.10/site-packages (from ray<3,>=2->ray[default,tune]<3,>=2->finrl) (1.3.1)\n",
      "Requirement already satisfied: frozenlist in /Library/Frameworks/Python.framework/Versions/3.10/lib/python3.10/site-packages (from ray<3,>=2->ray[default,tune]<3,>=2->finrl) (1.4.1)\n",
      "Requirement already satisfied: aiohttp-cors in /Library/Frameworks/Python.framework/Versions/3.10/lib/python3.10/site-packages (from ray[default,tune]<3,>=2->finrl) (0.7.0)\n",
      "Requirement already satisfied: colorful in /Library/Frameworks/Python.framework/Versions/3.10/lib/python3.10/site-packages (from ray[default,tune]<3,>=2->finrl) (0.5.6)\n",
      "Requirement already satisfied: py-spy>=0.2.0 in /Library/Frameworks/Python.framework/Versions/3.10/lib/python3.10/site-packages (from ray[default,tune]<3,>=2->finrl) (0.3.14)\n",
      "Requirement already satisfied: opencensus in /Library/Frameworks/Python.framework/Versions/3.10/lib/python3.10/site-packages (from ray[default,tune]<3,>=2->finrl) (0.11.4)\n",
      "Requirement already satisfied: pydantic!=2.0.*,!=2.1.*,!=2.2.*,!=2.3.*,!=2.4.*,<3 in /Library/Frameworks/Python.framework/Versions/3.10/lib/python3.10/site-packages (from ray[default,tune]<3,>=2->finrl) (2.6.4)\n",
      "Requirement already satisfied: prometheus-client>=0.7.1 in /Library/Frameworks/Python.framework/Versions/3.10/lib/python3.10/site-packages (from ray[default,tune]<3,>=2->finrl) (0.20.0)\n",
      "Requirement already satisfied: smart-open in /Library/Frameworks/Python.framework/Versions/3.10/lib/python3.10/site-packages (from ray[default,tune]<3,>=2->finrl) (7.0.4)\n",
      "Requirement already satisfied: virtualenv!=20.21.1,>=20.0.24 in /Library/Frameworks/Python.framework/Versions/3.10/lib/python3.10/site-packages (from ray[default,tune]<3,>=2->finrl) (20.25.1)\n",
      "Requirement already satisfied: grpcio>=1.42.0 in /Library/Frameworks/Python.framework/Versions/3.10/lib/python3.10/site-packages (from ray[default,tune]<3,>=2->finrl) (1.62.1)\n",
      "Requirement already satisfied: tensorboardX>=1.9 in /Library/Frameworks/Python.framework/Versions/3.10/lib/python3.10/site-packages (from ray[default,tune]<3,>=2->finrl) (2.6.2.2)\n",
      "Requirement already satisfied: pyarrow>=6.0.1 in /Library/Frameworks/Python.framework/Versions/3.10/lib/python3.10/site-packages (from ray[default,tune]<3,>=2->finrl) (15.0.2)\n",
      "Requirement already satisfied: fsspec in /Library/Frameworks/Python.framework/Versions/3.10/lib/python3.10/site-packages (from ray[default,tune]<3,>=2->finrl) (2024.3.1)\n",
      "Requirement already satisfied: joblib>=1.2.0 in /Library/Frameworks/Python.framework/Versions/3.10/lib/python3.10/site-packages (from scikit-learn<2,>=1->finrl) (1.3.2)\n",
      "Requirement already satisfied: threadpoolctl>=2.0.0 in /Library/Frameworks/Python.framework/Versions/3.10/lib/python3.10/site-packages (from scikit-learn<2,>=1->finrl) (3.4.0)\n",
      "Requirement already satisfied: gymnasium<0.30,>=0.28.1 in /Library/Frameworks/Python.framework/Versions/3.10/lib/python3.10/site-packages (from stable-baselines3>=2.0.0a5->stable-baselines3[extra]>=2.0.0a5->finrl) (0.29.1)\n",
      "Requirement already satisfied: torch>=1.13 in /Library/Frameworks/Python.framework/Versions/3.10/lib/python3.10/site-packages (from stable-baselines3>=2.0.0a5->stable-baselines3[extra]>=2.0.0a5->finrl) (2.2.2)\n",
      "Requirement already satisfied: cloudpickle in /Library/Frameworks/Python.framework/Versions/3.10/lib/python3.10/site-packages (from stable-baselines3>=2.0.0a5->stable-baselines3[extra]>=2.0.0a5->finrl) (3.0.0)\n",
      "Requirement already satisfied: opencv-python in /Library/Frameworks/Python.framework/Versions/3.10/lib/python3.10/site-packages (from stable-baselines3[extra]>=2.0.0a5->finrl) (4.9.0.80)\n",
      "Requirement already satisfied: pygame in /Library/Frameworks/Python.framework/Versions/3.10/lib/python3.10/site-packages (from stable-baselines3[extra]>=2.0.0a5->finrl) (2.1.0)\n",
      "Requirement already satisfied: tensorboard>=2.9.1 in /Library/Frameworks/Python.framework/Versions/3.10/lib/python3.10/site-packages (from stable-baselines3[extra]>=2.0.0a5->finrl) (2.16.2)\n",
      "Requirement already satisfied: psutil in /Users/kshama/Library/Python/3.10/lib/python/site-packages (from stable-baselines3[extra]>=2.0.0a5->finrl) (5.9.8)\n",
      "Requirement already satisfied: tqdm in /Library/Frameworks/Python.framework/Versions/3.10/lib/python3.10/site-packages (from stable-baselines3[extra]>=2.0.0a5->finrl) (4.66.2)\n",
      "Requirement already satisfied: rich in /Library/Frameworks/Python.framework/Versions/3.10/lib/python3.10/site-packages (from stable-baselines3[extra]>=2.0.0a5->finrl) (13.7.1)\n",
      "Requirement already satisfied: shimmy~=1.3.0 in /Library/Frameworks/Python.framework/Versions/3.10/lib/python3.10/site-packages (from shimmy[atari]~=1.3.0; extra == \"extra\"->stable-baselines3[extra]>=2.0.0a5->finrl) (1.3.0)\n",
      "Requirement already satisfied: pillow in /Library/Frameworks/Python.framework/Versions/3.10/lib/python3.10/site-packages (from stable-baselines3[extra]>=2.0.0a5->finrl) (10.2.0)\n",
      "Requirement already satisfied: autorom~=0.6.1 in /Library/Frameworks/Python.framework/Versions/3.10/lib/python3.10/site-packages (from autorom[accept-rom-license]~=0.6.1; extra == \"extra\"->stable-baselines3[extra]>=2.0.0a5->finrl) (0.6.1)\n",
      "Requirement already satisfied: psycopg2-binary<2.10,>=2.9 in /Library/Frameworks/Python.framework/Versions/3.10/lib/python3.10/site-packages (from wrds<4,>=3->finrl) (2.9.9)\n",
      "Requirement already satisfied: multitasking>=0.0.7 in /Library/Frameworks/Python.framework/Versions/3.10/lib/python3.10/site-packages (from yfinance<0.3,>=0.2->finrl) (0.0.11)\n",
      "Requirement already satisfied: lxml>=4.9.1 in /Library/Frameworks/Python.framework/Versions/3.10/lib/python3.10/site-packages (from yfinance<0.3,>=0.2->finrl) (5.1.0)\n",
      "Requirement already satisfied: appdirs>=1.4.4 in /Library/Frameworks/Python.framework/Versions/3.10/lib/python3.10/site-packages (from yfinance<0.3,>=0.2->finrl) (1.4.4)\n",
      "Requirement already satisfied: frozendict>=2.3.4 in /Library/Frameworks/Python.framework/Versions/3.10/lib/python3.10/site-packages (from yfinance<0.3,>=0.2->finrl) (2.4.0)\n",
      "Requirement already satisfied: peewee>=3.16.2 in /Library/Frameworks/Python.framework/Versions/3.10/lib/python3.10/site-packages (from yfinance<0.3,>=0.2->finrl) (3.17.1)\n",
      "Requirement already satisfied: beautifulsoup4>=4.11.1 in /Library/Frameworks/Python.framework/Versions/3.10/lib/python3.10/site-packages (from yfinance<0.3,>=0.2->finrl) (4.12.3)\n",
      "Requirement already satisfied: html5lib>=1.1 in /Library/Frameworks/Python.framework/Versions/3.10/lib/python3.10/site-packages (from yfinance<0.3,>=0.2->finrl) (1.1)\n",
      "Requirement already satisfied: gym in /Library/Frameworks/Python.framework/Versions/3.10/lib/python3.10/site-packages (from elegantrl@ git+https://github.com/AI4Finance-Foundation/ElegantRL.git#egg=elegantrl->finrl) (0.26.2)\n",
      "Requirement already satisfied: pycares>=4.0.0 in /Library/Frameworks/Python.framework/Versions/3.10/lib/python3.10/site-packages (from aiodns>=1.1.1->ccxt<4,>=3->finrl) (4.4.0)\n",
      "Requirement already satisfied: attrs>=17.3.0 in /Library/Frameworks/Python.framework/Versions/3.10/lib/python3.10/site-packages (from aiohttp<4,>=3.8.3->alpaca-trade-api<4,>=3->finrl) (23.2.0)\n",
      "Requirement already satisfied: multidict<7.0,>=4.5 in /Library/Frameworks/Python.framework/Versions/3.10/lib/python3.10/site-packages (from aiohttp<4,>=3.8.3->alpaca-trade-api<4,>=3->finrl) (6.0.5)\n",
      "Requirement already satisfied: async-timeout<5.0,>=4.0 in /Library/Frameworks/Python.framework/Versions/3.10/lib/python3.10/site-packages (from aiohttp<4,>=3.8.3->alpaca-trade-api<4,>=3->finrl) (4.0.3)\n",
      "Requirement already satisfied: AutoROM.accept-rom-license in /Library/Frameworks/Python.framework/Versions/3.10/lib/python3.10/site-packages (from autorom[accept-rom-license]~=0.6.1; extra == \"extra\"->stable-baselines3[extra]>=2.0.0a5->finrl) (0.6.1)\n",
      "Requirement already satisfied: soupsieve>1.2 in /Library/Frameworks/Python.framework/Versions/3.10/lib/python3.10/site-packages (from beautifulsoup4>=4.11.1->yfinance<0.3,>=0.2->finrl) (2.5)\n",
      "Requirement already satisfied: cffi>=1.12 in /Library/Frameworks/Python.framework/Versions/3.10/lib/python3.10/site-packages (from cryptography>=2.6.1->ccxt<4,>=3->finrl) (1.16.0)\n",
      "Requirement already satisfied: osqp>=0.6.2 in /Library/Frameworks/Python.framework/Versions/3.10/lib/python3.10/site-packages (from cvxpy<2.0.0,>=1.1.19->pyportfolioopt<2,>=1->finrl) (0.6.4)\n",
      "Requirement already satisfied: ecos>=2 in /Library/Frameworks/Python.framework/Versions/3.10/lib/python3.10/site-packages (from cvxpy<2.0.0,>=1.1.19->pyportfolioopt<2,>=1->finrl) (2.0.13)\n",
      "Requirement already satisfied: clarabel>=0.5.0 in /Library/Frameworks/Python.framework/Versions/3.10/lib/python3.10/site-packages (from cvxpy<2.0.0,>=1.1.19->pyportfolioopt<2,>=1->finrl) (0.7.1)\n",
      "Requirement already satisfied: scs>=3.0 in /Library/Frameworks/Python.framework/Versions/3.10/lib/python3.10/site-packages (from cvxpy<2.0.0,>=1.1.19->pyportfolioopt<2,>=1->finrl) (3.2.4.post1)\n",
      "Requirement already satisfied: pybind11 in /Library/Frameworks/Python.framework/Versions/3.10/lib/python3.10/site-packages (from cvxpy<2.0.0,>=1.1.19->pyportfolioopt<2,>=1->finrl) (2.12.0)\n",
      "Requirement already satisfied: pandas-datareader>=0.2 in /Library/Frameworks/Python.framework/Versions/3.10/lib/python3.10/site-packages (from empyrical>=0.5.0->pyfolio<0.10,>=0.9->finrl) (0.10.0)\n",
      "Requirement already satisfied: typing-extensions>=4.3.0 in /Library/Frameworks/Python.framework/Versions/3.10/lib/python3.10/site-packages (from gymnasium<0.30,>=0.28.1->stable-baselines3>=2.0.0a5->stable-baselines3[extra]>=2.0.0a5->finrl) (4.10.0)\n",
      "Requirement already satisfied: farama-notifications>=0.0.1 in /Library/Frameworks/Python.framework/Versions/3.10/lib/python3.10/site-packages (from gymnasium<0.30,>=0.28.1->stable-baselines3>=2.0.0a5->stable-baselines3[extra]>=2.0.0a5->finrl) (0.0.4)\n",
      "Requirement already satisfied: webencodings in /Library/Frameworks/Python.framework/Versions/3.10/lib/python3.10/site-packages (from html5lib>=1.1->yfinance<0.3,>=0.2->finrl) (0.5.1)\n",
      "Requirement already satisfied: decorator in /Users/kshama/Library/Python/3.10/lib/python/site-packages (from ipython>=3.2.3->pyfolio<0.10,>=0.9->finrl) (5.1.1)\n",
      "Requirement already satisfied: jedi>=0.16 in /Users/kshama/Library/Python/3.10/lib/python/site-packages (from ipython>=3.2.3->pyfolio<0.10,>=0.9->finrl) (0.19.1)\n",
      "Requirement already satisfied: matplotlib-inline in /Users/kshama/Library/Python/3.10/lib/python/site-packages (from ipython>=3.2.3->pyfolio<0.10,>=0.9->finrl) (0.1.6)\n",
      "Requirement already satisfied: prompt-toolkit<3.1.0,>=3.0.41 in /Users/kshama/Library/Python/3.10/lib/python/site-packages (from ipython>=3.2.3->pyfolio<0.10,>=0.9->finrl) (3.0.43)\n",
      "Requirement already satisfied: pygments>=2.4.0 in /Users/kshama/Library/Python/3.10/lib/python/site-packages (from ipython>=3.2.3->pyfolio<0.10,>=0.9->finrl) (2.17.2)\n",
      "Requirement already satisfied: stack-data in /Users/kshama/Library/Python/3.10/lib/python/site-packages (from ipython>=3.2.3->pyfolio<0.10,>=0.9->finrl) (0.6.3)\n",
      "Requirement already satisfied: traitlets>=5.13.0 in /Users/kshama/Library/Python/3.10/lib/python/site-packages (from ipython>=3.2.3->pyfolio<0.10,>=0.9->finrl) (5.14.2)\n",
      "Requirement already satisfied: exceptiongroup in /Users/kshama/Library/Python/3.10/lib/python/site-packages (from ipython>=3.2.3->pyfolio<0.10,>=0.9->finrl) (1.2.0)\n",
      "Requirement already satisfied: pexpect>4.3 in /Users/kshama/Library/Python/3.10/lib/python/site-packages (from ipython>=3.2.3->pyfolio<0.10,>=0.9->finrl) (4.9.0)\n",
      "Requirement already satisfied: contourpy>=1.0.1 in /Library/Frameworks/Python.framework/Versions/3.10/lib/python3.10/site-packages (from matplotlib>=1.4.0->pyfolio<0.10,>=0.9->finrl) (1.2.0)\n",
      "Requirement already satisfied: cycler>=0.10 in /Library/Frameworks/Python.framework/Versions/3.10/lib/python3.10/site-packages (from matplotlib>=1.4.0->pyfolio<0.10,>=0.9->finrl) (0.12.1)\n",
      "Requirement already satisfied: fonttools>=4.22.0 in /Library/Frameworks/Python.framework/Versions/3.10/lib/python3.10/site-packages (from matplotlib>=1.4.0->pyfolio<0.10,>=0.9->finrl) (4.50.0)\n",
      "Requirement already satisfied: kiwisolver>=1.3.1 in /Library/Frameworks/Python.framework/Versions/3.10/lib/python3.10/site-packages (from matplotlib>=1.4.0->pyfolio<0.10,>=0.9->finrl) (1.4.5)\n",
      "Requirement already satisfied: pyparsing>=2.3.1 in /Library/Frameworks/Python.framework/Versions/3.10/lib/python3.10/site-packages (from matplotlib>=1.4.0->pyfolio<0.10,>=0.9->finrl) (3.1.2)\n",
      "Requirement already satisfied: python-dateutil>=2.7 in /Users/kshama/Library/Python/3.10/lib/python/site-packages (from matplotlib>=1.4.0->pyfolio<0.10,>=0.9->finrl) (2.9.0.post0)\n",
      "Requirement already satisfied: annotated-types>=0.4.0 in /Library/Frameworks/Python.framework/Versions/3.10/lib/python3.10/site-packages (from pydantic!=2.0.*,!=2.1.*,!=2.2.*,!=2.3.*,!=2.4.*,<3->ray[default,tune]<3,>=2->finrl) (0.6.0)\n",
      "Requirement already satisfied: pydantic-core==2.16.3 in /Library/Frameworks/Python.framework/Versions/3.10/lib/python3.10/site-packages (from pydantic!=2.0.*,!=2.1.*,!=2.2.*,!=2.3.*,!=2.4.*,<3->ray[default,tune]<3,>=2->finrl) (2.16.3)\n",
      "Requirement already satisfied: charset-normalizer<4,>=2 in /Library/Frameworks/Python.framework/Versions/3.10/lib/python3.10/site-packages (from requests<3,>2->alpaca-trade-api<4,>=3->finrl) (3.3.2)\n",
      "Requirement already satisfied: idna<4,>=2.5 in /Library/Frameworks/Python.framework/Versions/3.10/lib/python3.10/site-packages (from requests<3,>2->alpaca-trade-api<4,>=3->finrl) (3.6)\n",
      "Requirement already satisfied: ale-py~=0.8.1 in /Library/Frameworks/Python.framework/Versions/3.10/lib/python3.10/site-packages (from shimmy[atari]~=1.3.0; extra == \"extra\"->stable-baselines3[extra]>=2.0.0a5->finrl) (0.8.1)\n",
      "Requirement already satisfied: absl-py>=0.4 in /Library/Frameworks/Python.framework/Versions/3.10/lib/python3.10/site-packages (from tensorboard>=2.9.1->stable-baselines3[extra]>=2.0.0a5->finrl) (2.1.0)\n",
      "Requirement already satisfied: markdown>=2.6.8 in /Library/Frameworks/Python.framework/Versions/3.10/lib/python3.10/site-packages (from tensorboard>=2.9.1->stable-baselines3[extra]>=2.0.0a5->finrl) (3.6)\n",
      "Requirement already satisfied: tensorboard-data-server<0.8.0,>=0.7.0 in /Library/Frameworks/Python.framework/Versions/3.10/lib/python3.10/site-packages (from tensorboard>=2.9.1->stable-baselines3[extra]>=2.0.0a5->finrl) (0.7.2)\n",
      "Requirement already satisfied: werkzeug>=1.0.1 in /Library/Frameworks/Python.framework/Versions/3.10/lib/python3.10/site-packages (from tensorboard>=2.9.1->stable-baselines3[extra]>=2.0.0a5->finrl) (3.0.1)\n",
      "Requirement already satisfied: ply<4.0,>=3.4 in /Library/Frameworks/Python.framework/Versions/3.10/lib/python3.10/site-packages (from thriftpy2>=0.3.9->jqdatasdk<2,>=1->finrl) (3.11)\n",
      "Requirement already satisfied: sympy in /Library/Frameworks/Python.framework/Versions/3.10/lib/python3.10/site-packages (from torch>=1.13->stable-baselines3>=2.0.0a5->stable-baselines3[extra]>=2.0.0a5->finrl) (1.12)\n",
      "Requirement already satisfied: networkx in /Library/Frameworks/Python.framework/Versions/3.10/lib/python3.10/site-packages (from torch>=1.13->stable-baselines3>=2.0.0a5->stable-baselines3[extra]>=2.0.0a5->finrl) (3.2.1)\n",
      "Requirement already satisfied: jinja2 in /Library/Frameworks/Python.framework/Versions/3.10/lib/python3.10/site-packages (from torch>=1.13->stable-baselines3>=2.0.0a5->stable-baselines3[extra]>=2.0.0a5->finrl) (3.1.3)\n",
      "Requirement already satisfied: distlib<1,>=0.3.7 in /Library/Frameworks/Python.framework/Versions/3.10/lib/python3.10/site-packages (from virtualenv!=20.21.1,>=20.0.24->ray[default,tune]<3,>=2->finrl) (0.3.8)\n",
      "Requirement already satisfied: platformdirs<5,>=3.9.1 in /Users/kshama/Library/Python/3.10/lib/python/site-packages (from virtualenv!=20.21.1,>=20.0.24->ray[default,tune]<3,>=2->finrl) (4.2.0)\n",
      "Requirement already satisfied: gym-notices>=0.0.4 in /Library/Frameworks/Python.framework/Versions/3.10/lib/python3.10/site-packages (from gym->elegantrl@ git+https://github.com/AI4Finance-Foundation/ElegantRL.git#egg=elegantrl->finrl) (0.0.8)\n",
      "Requirement already satisfied: box2d-py==2.3.5 in /Library/Frameworks/Python.framework/Versions/3.10/lib/python3.10/site-packages (from gym[box2d]->elegantrl@ git+https://github.com/AI4Finance-Foundation/ElegantRL.git#egg=elegantrl->finrl) (2.3.5)\n",
      "Requirement already satisfied: swig==4.* in /Library/Frameworks/Python.framework/Versions/3.10/lib/python3.10/site-packages (from gym[box2d]->elegantrl@ git+https://github.com/AI4Finance-Foundation/ElegantRL.git#egg=elegantrl->finrl) (4.2.1)\n",
      "Requirement already satisfied: jsonschema-specifications>=2023.03.6 in /Library/Frameworks/Python.framework/Versions/3.10/lib/python3.10/site-packages (from jsonschema->ray<3,>=2->ray[default,tune]<3,>=2->finrl) (2023.12.1)\n",
      "Requirement already satisfied: referencing>=0.28.4 in /Library/Frameworks/Python.framework/Versions/3.10/lib/python3.10/site-packages (from jsonschema->ray<3,>=2->ray[default,tune]<3,>=2->finrl) (0.34.0)\n",
      "Requirement already satisfied: rpds-py>=0.7.1 in /Library/Frameworks/Python.framework/Versions/3.10/lib/python3.10/site-packages (from jsonschema->ray<3,>=2->ray[default,tune]<3,>=2->finrl) (0.18.0)\n",
      "Requirement already satisfied: opencensus-context>=0.1.3 in /Library/Frameworks/Python.framework/Versions/3.10/lib/python3.10/site-packages (from opencensus->ray[default,tune]<3,>=2->finrl) (0.1.3)\n",
      "Requirement already satisfied: google-api-core<3.0.0,>=1.0.0 in /Library/Frameworks/Python.framework/Versions/3.10/lib/python3.10/site-packages (from opencensus->ray[default,tune]<3,>=2->finrl) (2.18.0)\n",
      "Requirement already satisfied: markdown-it-py>=2.2.0 in /Library/Frameworks/Python.framework/Versions/3.10/lib/python3.10/site-packages (from rich->stable-baselines3[extra]>=2.0.0a5->finrl) (3.0.0)\n",
      "Requirement already satisfied: wrapt in /Library/Frameworks/Python.framework/Versions/3.10/lib/python3.10/site-packages (from smart-open->ray[default,tune]<3,>=2->finrl) (1.16.0)\n",
      "Requirement already satisfied: importlib-resources in /Library/Frameworks/Python.framework/Versions/3.10/lib/python3.10/site-packages (from ale-py~=0.8.1->shimmy[atari]~=1.3.0; extra == \"extra\"->stable-baselines3[extra]>=2.0.0a5->finrl) (6.4.0)\n",
      "Requirement already satisfied: pycparser in /Library/Frameworks/Python.framework/Versions/3.10/lib/python3.10/site-packages (from cffi>=1.12->cryptography>=2.6.1->ccxt<4,>=3->finrl) (2.21)\n",
      "Requirement already satisfied: googleapis-common-protos<2.0.dev0,>=1.56.2 in /Library/Frameworks/Python.framework/Versions/3.10/lib/python3.10/site-packages (from google-api-core<3.0.0,>=1.0.0->opencensus->ray[default,tune]<3,>=2->finrl) (1.63.0)\n",
      "Requirement already satisfied: proto-plus<2.0.0dev,>=1.22.3 in /Library/Frameworks/Python.framework/Versions/3.10/lib/python3.10/site-packages (from google-api-core<3.0.0,>=1.0.0->opencensus->ray[default,tune]<3,>=2->finrl) (1.23.0)\n",
      "Requirement already satisfied: google-auth<3.0.dev0,>=2.14.1 in /Library/Frameworks/Python.framework/Versions/3.10/lib/python3.10/site-packages (from google-api-core<3.0.0,>=1.0.0->opencensus->ray[default,tune]<3,>=2->finrl) (2.29.0)\n",
      "Requirement already satisfied: parso<0.9.0,>=0.8.3 in /Users/kshama/Library/Python/3.10/lib/python/site-packages (from jedi>=0.16->ipython>=3.2.3->pyfolio<0.10,>=0.9->finrl) (0.8.3)\n",
      "Requirement already satisfied: mdurl~=0.1 in /Library/Frameworks/Python.framework/Versions/3.10/lib/python3.10/site-packages (from markdown-it-py>=2.2.0->rich->stable-baselines3[extra]>=2.0.0a5->finrl) (0.1.2)\n",
      "Requirement already satisfied: qdldl in /Library/Frameworks/Python.framework/Versions/3.10/lib/python3.10/site-packages (from osqp>=0.6.2->cvxpy<2.0.0,>=1.1.19->pyportfolioopt<2,>=1->finrl) (0.1.7.post0)\n",
      "Requirement already satisfied: ptyprocess>=0.5 in /Users/kshama/Library/Python/3.10/lib/python/site-packages (from pexpect>4.3->ipython>=3.2.3->pyfolio<0.10,>=0.9->finrl) (0.7.0)\n",
      "Requirement already satisfied: wcwidth in /Users/kshama/Library/Python/3.10/lib/python/site-packages (from prompt-toolkit<3.1.0,>=3.0.41->ipython>=3.2.3->pyfolio<0.10,>=0.9->finrl) (0.2.13)\n",
      "Requirement already satisfied: MarkupSafe>=2.1.1 in /Library/Frameworks/Python.framework/Versions/3.10/lib/python3.10/site-packages (from werkzeug>=1.0.1->tensorboard>=2.9.1->stable-baselines3[extra]>=2.0.0a5->finrl) (2.1.5)\n",
      "Requirement already satisfied: executing>=1.2.0 in /Users/kshama/Library/Python/3.10/lib/python/site-packages (from stack-data->ipython>=3.2.3->pyfolio<0.10,>=0.9->finrl) (2.0.1)\n",
      "Requirement already satisfied: asttokens>=2.1.0 in /Users/kshama/Library/Python/3.10/lib/python/site-packages (from stack-data->ipython>=3.2.3->pyfolio<0.10,>=0.9->finrl) (2.4.1)\n",
      "Requirement already satisfied: pure-eval in /Users/kshama/Library/Python/3.10/lib/python/site-packages (from stack-data->ipython>=3.2.3->pyfolio<0.10,>=0.9->finrl) (0.2.2)\n",
      "Requirement already satisfied: mpmath>=0.19 in /Library/Frameworks/Python.framework/Versions/3.10/lib/python3.10/site-packages (from sympy->torch>=1.13->stable-baselines3>=2.0.0a5->stable-baselines3[extra]>=2.0.0a5->finrl) (1.3.0)\n",
      "Requirement already satisfied: cachetools<6.0,>=2.0.0 in /Library/Frameworks/Python.framework/Versions/3.10/lib/python3.10/site-packages (from google-auth<3.0.dev0,>=2.14.1->google-api-core<3.0.0,>=1.0.0->opencensus->ray[default,tune]<3,>=2->finrl) (5.3.3)\n",
      "Requirement already satisfied: pyasn1-modules>=0.2.1 in /Library/Frameworks/Python.framework/Versions/3.10/lib/python3.10/site-packages (from google-auth<3.0.dev0,>=2.14.1->google-api-core<3.0.0,>=1.0.0->opencensus->ray[default,tune]<3,>=2->finrl) (0.4.0)\n",
      "Requirement already satisfied: rsa<5,>=3.1.4 in /Library/Frameworks/Python.framework/Versions/3.10/lib/python3.10/site-packages (from google-auth<3.0.dev0,>=2.14.1->google-api-core<3.0.0,>=1.0.0->opencensus->ray[default,tune]<3,>=2->finrl) (4.9)\n",
      "Requirement already satisfied: pyasn1<0.7.0,>=0.4.6 in /Library/Frameworks/Python.framework/Versions/3.10/lib/python3.10/site-packages (from pyasn1-modules>=0.2.1->google-auth<3.0.dev0,>=2.14.1->google-api-core<3.0.0,>=1.0.0->opencensus->ray[default,tune]<3,>=2->finrl) (0.6.0)\n",
      "Note: you may need to restart the kernel to use updated packages.\n"
     ]
    }
   ],
   "source": [
    "pip install finrl"
   ]
  },
  {
   "cell_type": "code",
   "execution_count": 156,
   "metadata": {},
   "outputs": [],
   "source": [
    "import numpy as np\n",
    "import pandas as pd\n",
    "import tensorflow as tf\n",
    "import keras\n",
    "import matplotlib.pyplot as plt"
   ]
  },
  {
   "cell_type": "code",
   "execution_count": 157,
   "metadata": {},
   "outputs": [],
   "source": [
    "# lstm autoencoder recreate sequence\n",
    "from numpy import array\n",
    "from keras.models import Model, Sequential\n",
    "from keras.layers import Input\n",
    "from keras.layers import LSTM\n",
    "from keras.layers import Dense\n",
    "from keras.layers import RepeatVector\n",
    "from keras.layers import TimeDistributed\n",
    "from keras.utils import plot_model\n",
    "\n",
    "from sklearn import preprocessing"
   ]
  },
  {
   "cell_type": "markdown",
   "metadata": {},
   "source": [
    "### 5.2 Load the Data"
   ]
  },
  {
   "cell_type": "code",
   "execution_count": 158,
   "metadata": {},
   "outputs": [
    {
     "name": "stdout",
     "output_type": "stream",
     "text": [
      "Stored variables and their in-db values:\n",
      "df                               ->              date            tic        close     \n",
      "df_close_full_stocks             ->             date   HCLTECH.NS  EICHERMOT.NS  HINDA\n",
      "filtered_stocks                  -> Index(['ITC.NS', 'NTPC.NS', 'HDFCBANK.NS', 'HINDUN\n"
     ]
    }
   ],
   "source": [
    "%store"
   ]
  },
  {
   "cell_type": "code",
   "execution_count": 159,
   "metadata": {},
   "outputs": [],
   "source": [
    "%store -r df"
   ]
  },
  {
   "cell_type": "code",
   "execution_count": 160,
   "metadata": {},
   "outputs": [
    {
     "data": {
      "text/html": [
       "<div>\n",
       "<style scoped>\n",
       "    .dataframe tbody tr th:only-of-type {\n",
       "        vertical-align: middle;\n",
       "    }\n",
       "\n",
       "    .dataframe tbody tr th {\n",
       "        vertical-align: top;\n",
       "    }\n",
       "\n",
       "    .dataframe thead th {\n",
       "        text-align: right;\n",
       "    }\n",
       "</style>\n",
       "<table border=\"1\" class=\"dataframe\">\n",
       "  <thead>\n",
       "    <tr style=\"text-align: right;\">\n",
       "      <th></th>\n",
       "      <th>date</th>\n",
       "      <th>tic</th>\n",
       "      <th>close</th>\n",
       "      <th>high</th>\n",
       "      <th>low</th>\n",
       "      <th>open</th>\n",
       "      <th>volume</th>\n",
       "      <th>atr</th>\n",
       "      <th>bbw</th>\n",
       "      <th>obv</th>\n",
       "      <th>cmf</th>\n",
       "      <th>macd</th>\n",
       "      <th>adx</th>\n",
       "      <th>sma</th>\n",
       "      <th>ema</th>\n",
       "      <th>cci</th>\n",
       "      <th>rsi</th>\n",
       "      <th>cov_list</th>\n",
       "    </tr>\n",
       "  </thead>\n",
       "  <tbody>\n",
       "    <tr>\n",
       "      <th>0</th>\n",
       "      <td>2009-01-13</td>\n",
       "      <td>ASIANPAINT.NS</td>\n",
       "      <td>91.699997</td>\n",
       "      <td>88.500000</td>\n",
       "      <td>91.235001</td>\n",
       "      <td>88.500000</td>\n",
       "      <td>65800</td>\n",
       "      <td>2.709892</td>\n",
       "      <td>8.344600</td>\n",
       "      <td>25599954665</td>\n",
       "      <td>-9.929696</td>\n",
       "      <td>-0.321724</td>\n",
       "      <td>8.273333</td>\n",
       "      <td>89.891666</td>\n",
       "      <td>90.273798</td>\n",
       "      <td>107.976227</td>\n",
       "      <td>52.883757</td>\n",
       "      <td>[[0.0005821350723573744, 0.0001385649017777150...</td>\n",
       "    </tr>\n",
       "    <tr>\n",
       "      <th>1</th>\n",
       "      <td>2009-01-13</td>\n",
       "      <td>CIPLA.NS</td>\n",
       "      <td>189.649994</td>\n",
       "      <td>184.000000</td>\n",
       "      <td>185.350006</td>\n",
       "      <td>185.000000</td>\n",
       "      <td>901712</td>\n",
       "      <td>8.145647</td>\n",
       "      <td>10.658031</td>\n",
       "      <td>17931436408</td>\n",
       "      <td>-5.061957</td>\n",
       "      <td>0.163100</td>\n",
       "      <td>8.062326</td>\n",
       "      <td>190.170832</td>\n",
       "      <td>191.058647</td>\n",
       "      <td>12.530568</td>\n",
       "      <td>48.233742</td>\n",
       "      <td>[[0.0005821350723573744, 0.0001385649017777150...</td>\n",
       "    </tr>\n",
       "    <tr>\n",
       "      <th>2</th>\n",
       "      <td>2009-01-13</td>\n",
       "      <td>DRREDDY.NS</td>\n",
       "      <td>478.000000</td>\n",
       "      <td>448.000000</td>\n",
       "      <td>452.750000</td>\n",
       "      <td>465.750000</td>\n",
       "      <td>544994</td>\n",
       "      <td>24.985094</td>\n",
       "      <td>9.716542</td>\n",
       "      <td>26047694828</td>\n",
       "      <td>-5.436297</td>\n",
       "      <td>5.426979</td>\n",
       "      <td>21.699377</td>\n",
       "      <td>482.574999</td>\n",
       "      <td>482.291917</td>\n",
       "      <td>-46.397095</td>\n",
       "      <td>50.524243</td>\n",
       "      <td>[[0.0005821350723573744, 0.0001385649017777150...</td>\n",
       "    </tr>\n",
       "    <tr>\n",
       "      <th>3</th>\n",
       "      <td>2009-01-13</td>\n",
       "      <td>GAIL.NS</td>\n",
       "      <td>39.375019</td>\n",
       "      <td>37.875019</td>\n",
       "      <td>38.756268</td>\n",
       "      <td>38.606270</td>\n",
       "      <td>9334277</td>\n",
       "      <td>2.253717</td>\n",
       "      <td>15.414591</td>\n",
       "      <td>26198304659</td>\n",
       "      <td>-4.217676</td>\n",
       "      <td>-0.335640</td>\n",
       "      <td>8.487785</td>\n",
       "      <td>39.254707</td>\n",
       "      <td>39.600802</td>\n",
       "      <td>-24.680875</td>\n",
       "      <td>47.371823</td>\n",
       "      <td>[[0.0005821350723573744, 0.0001385649017777150...</td>\n",
       "    </tr>\n",
       "    <tr>\n",
       "      <th>4</th>\n",
       "      <td>2009-01-13</td>\n",
       "      <td>GRASIM.NS</td>\n",
       "      <td>209.852203</td>\n",
       "      <td>202.908554</td>\n",
       "      <td>204.891357</td>\n",
       "      <td>205.570282</td>\n",
       "      <td>1994905</td>\n",
       "      <td>9.809186</td>\n",
       "      <td>22.975549</td>\n",
       "      <td>1917389030</td>\n",
       "      <td>-3.682218</td>\n",
       "      <td>9.910951</td>\n",
       "      <td>38.354100</td>\n",
       "      <td>200.315626</td>\n",
       "      <td>202.191527</td>\n",
       "      <td>125.899067</td>\n",
       "      <td>65.313483</td>\n",
       "      <td>[[0.0005821350723573744, 0.0001385649017777150...</td>\n",
       "    </tr>\n",
       "  </tbody>\n",
       "</table>\n",
       "</div>"
      ],
      "text/plain": [
       "         date            tic       close        high         low        open  \\\n",
       "0  2009-01-13  ASIANPAINT.NS   91.699997   88.500000   91.235001   88.500000   \n",
       "1  2009-01-13       CIPLA.NS  189.649994  184.000000  185.350006  185.000000   \n",
       "2  2009-01-13     DRREDDY.NS  478.000000  448.000000  452.750000  465.750000   \n",
       "3  2009-01-13        GAIL.NS   39.375019   37.875019   38.756268   38.606270   \n",
       "4  2009-01-13      GRASIM.NS  209.852203  202.908554  204.891357  205.570282   \n",
       "\n",
       "    volume        atr        bbw          obv       cmf      macd        adx  \\\n",
       "0    65800   2.709892   8.344600  25599954665 -9.929696 -0.321724   8.273333   \n",
       "1   901712   8.145647  10.658031  17931436408 -5.061957  0.163100   8.062326   \n",
       "2   544994  24.985094   9.716542  26047694828 -5.436297  5.426979  21.699377   \n",
       "3  9334277   2.253717  15.414591  26198304659 -4.217676 -0.335640   8.487785   \n",
       "4  1994905   9.809186  22.975549   1917389030 -3.682218  9.910951  38.354100   \n",
       "\n",
       "          sma         ema         cci        rsi  \\\n",
       "0   89.891666   90.273798  107.976227  52.883757   \n",
       "1  190.170832  191.058647   12.530568  48.233742   \n",
       "2  482.574999  482.291917  -46.397095  50.524243   \n",
       "3   39.254707   39.600802  -24.680875  47.371823   \n",
       "4  200.315626  202.191527  125.899067  65.313483   \n",
       "\n",
       "                                            cov_list  \n",
       "0  [[0.0005821350723573744, 0.0001385649017777150...  \n",
       "1  [[0.0005821350723573744, 0.0001385649017777150...  \n",
       "2  [[0.0005821350723573744, 0.0001385649017777150...  \n",
       "3  [[0.0005821350723573744, 0.0001385649017777150...  \n",
       "4  [[0.0005821350723573744, 0.0001385649017777150...  "
      ]
     },
     "execution_count": 160,
     "metadata": {},
     "output_type": "execute_result"
    }
   ],
   "source": [
    "df.head()"
   ]
  },
  {
   "cell_type": "code",
   "execution_count": 161,
   "metadata": {},
   "outputs": [],
   "source": [
    "# Get the list of all the features\n",
    "features_list = list(df.columns)[7:-1]"
   ]
  },
  {
   "cell_type": "code",
   "execution_count": 162,
   "metadata": {},
   "outputs": [
    {
     "name": "stdout",
     "output_type": "stream",
     "text": [
      "['atr', 'bbw', 'obv', 'cmf', 'macd', 'adx', 'sma', 'ema', 'cci', 'rsi']\n"
     ]
    }
   ],
   "source": [
    "print(features_list)"
   ]
  },
  {
   "cell_type": "markdown",
   "metadata": {},
   "source": [
    "### 5.2 Construct a Data Frame of Features"
   ]
  },
  {
   "cell_type": "code",
   "execution_count": 163,
   "metadata": {},
   "outputs": [],
   "source": [
    "# construct a data frame of features\n",
    "features_df = df[features_list]\n",
    "features_df.index = df['date']"
   ]
  },
  {
   "cell_type": "code",
   "execution_count": 164,
   "metadata": {},
   "outputs": [
    {
     "data": {
      "text/html": [
       "<div>\n",
       "<style scoped>\n",
       "    .dataframe tbody tr th:only-of-type {\n",
       "        vertical-align: middle;\n",
       "    }\n",
       "\n",
       "    .dataframe tbody tr th {\n",
       "        vertical-align: top;\n",
       "    }\n",
       "\n",
       "    .dataframe thead th {\n",
       "        text-align: right;\n",
       "    }\n",
       "</style>\n",
       "<table border=\"1\" class=\"dataframe\">\n",
       "  <thead>\n",
       "    <tr style=\"text-align: right;\">\n",
       "      <th></th>\n",
       "      <th>atr</th>\n",
       "      <th>bbw</th>\n",
       "      <th>obv</th>\n",
       "      <th>cmf</th>\n",
       "      <th>macd</th>\n",
       "      <th>adx</th>\n",
       "      <th>sma</th>\n",
       "      <th>ema</th>\n",
       "      <th>cci</th>\n",
       "      <th>rsi</th>\n",
       "    </tr>\n",
       "    <tr>\n",
       "      <th>date</th>\n",
       "      <th></th>\n",
       "      <th></th>\n",
       "      <th></th>\n",
       "      <th></th>\n",
       "      <th></th>\n",
       "      <th></th>\n",
       "      <th></th>\n",
       "      <th></th>\n",
       "      <th></th>\n",
       "      <th></th>\n",
       "    </tr>\n",
       "  </thead>\n",
       "  <tbody>\n",
       "    <tr>\n",
       "      <th>2009-01-13</th>\n",
       "      <td>2.709892</td>\n",
       "      <td>8.344600</td>\n",
       "      <td>25599954665</td>\n",
       "      <td>-9.929696</td>\n",
       "      <td>-0.321724</td>\n",
       "      <td>8.273333</td>\n",
       "      <td>89.891666</td>\n",
       "      <td>90.273798</td>\n",
       "      <td>107.976227</td>\n",
       "      <td>52.883757</td>\n",
       "    </tr>\n",
       "    <tr>\n",
       "      <th>2009-01-13</th>\n",
       "      <td>8.145647</td>\n",
       "      <td>10.658031</td>\n",
       "      <td>17931436408</td>\n",
       "      <td>-5.061957</td>\n",
       "      <td>0.163100</td>\n",
       "      <td>8.062326</td>\n",
       "      <td>190.170832</td>\n",
       "      <td>191.058647</td>\n",
       "      <td>12.530568</td>\n",
       "      <td>48.233742</td>\n",
       "    </tr>\n",
       "    <tr>\n",
       "      <th>2009-01-13</th>\n",
       "      <td>24.985094</td>\n",
       "      <td>9.716542</td>\n",
       "      <td>26047694828</td>\n",
       "      <td>-5.436297</td>\n",
       "      <td>5.426979</td>\n",
       "      <td>21.699377</td>\n",
       "      <td>482.574999</td>\n",
       "      <td>482.291917</td>\n",
       "      <td>-46.397095</td>\n",
       "      <td>50.524243</td>\n",
       "    </tr>\n",
       "    <tr>\n",
       "      <th>2009-01-13</th>\n",
       "      <td>2.253717</td>\n",
       "      <td>15.414591</td>\n",
       "      <td>26198304659</td>\n",
       "      <td>-4.217676</td>\n",
       "      <td>-0.335640</td>\n",
       "      <td>8.487785</td>\n",
       "      <td>39.254707</td>\n",
       "      <td>39.600802</td>\n",
       "      <td>-24.680875</td>\n",
       "      <td>47.371823</td>\n",
       "    </tr>\n",
       "    <tr>\n",
       "      <th>2009-01-13</th>\n",
       "      <td>9.809186</td>\n",
       "      <td>22.975549</td>\n",
       "      <td>1917389030</td>\n",
       "      <td>-3.682218</td>\n",
       "      <td>9.910951</td>\n",
       "      <td>38.354100</td>\n",
       "      <td>200.315626</td>\n",
       "      <td>202.191527</td>\n",
       "      <td>125.899067</td>\n",
       "      <td>65.313483</td>\n",
       "    </tr>\n",
       "  </tbody>\n",
       "</table>\n",
       "</div>"
      ],
      "text/plain": [
       "                  atr        bbw          obv       cmf      macd        adx  \\\n",
       "date                                                                           \n",
       "2009-01-13   2.709892   8.344600  25599954665 -9.929696 -0.321724   8.273333   \n",
       "2009-01-13   8.145647  10.658031  17931436408 -5.061957  0.163100   8.062326   \n",
       "2009-01-13  24.985094   9.716542  26047694828 -5.436297  5.426979  21.699377   \n",
       "2009-01-13   2.253717  15.414591  26198304659 -4.217676 -0.335640   8.487785   \n",
       "2009-01-13   9.809186  22.975549   1917389030 -3.682218  9.910951  38.354100   \n",
       "\n",
       "                   sma         ema         cci        rsi  \n",
       "date                                                       \n",
       "2009-01-13   89.891666   90.273798  107.976227  52.883757  \n",
       "2009-01-13  190.170832  191.058647   12.530568  48.233742  \n",
       "2009-01-13  482.574999  482.291917  -46.397095  50.524243  \n",
       "2009-01-13   39.254707   39.600802  -24.680875  47.371823  \n",
       "2009-01-13  200.315626  202.191527  125.899067  65.313483  "
      ]
     },
     "execution_count": 164,
     "metadata": {},
     "output_type": "execute_result"
    }
   ],
   "source": [
    "features_df.head()"
   ]
  },
  {
   "cell_type": "code",
   "execution_count": 165,
   "metadata": {},
   "outputs": [
    {
     "data": {
      "text/plain": [
       "(74600, 10)"
      ]
     },
     "execution_count": 165,
     "metadata": {},
     "output_type": "execute_result"
    }
   ],
   "source": [
    "features_df.shape"
   ]
  },
  {
   "cell_type": "code",
   "execution_count": 166,
   "metadata": {},
   "outputs": [
    {
     "data": {
      "text/plain": [
       "(74600, 18)"
      ]
     },
     "execution_count": 166,
     "metadata": {},
     "output_type": "execute_result"
    }
   ],
   "source": [
    "df.shape"
   ]
  },
  {
   "cell_type": "markdown",
   "metadata": {},
   "source": [
    "### 5.3 Normalize the Features and Construct an Autoencoder"
   ]
  },
  {
   "cell_type": "code",
   "execution_count": 167,
   "metadata": {},
   "outputs": [],
   "source": [
    "features_array = np.array(features_df)\n",
    "features_scaler = preprocessing.MinMaxScaler()\n",
    "features_normalised = features_scaler.fit_transform(features_array)"
   ]
  },
  {
   "cell_type": "code",
   "execution_count": 168,
   "metadata": {},
   "outputs": [
    {
     "data": {
      "text/plain": [
       "(74600, 10)"
      ]
     },
     "execution_count": 168,
     "metadata": {},
     "output_type": "execute_result"
    }
   ],
   "source": [
    "features_normalised.shape"
   ]
  },
  {
   "cell_type": "code",
   "execution_count": 169,
   "metadata": {},
   "outputs": [],
   "source": [
    "features_normalised = features_normalised.reshape(-1,20,10)\n"
   ]
  },
  {
   "cell_type": "code",
   "execution_count": 170,
   "metadata": {},
   "outputs": [
    {
     "data": {
      "text/plain": [
       "(3730, 20, 10)"
      ]
     },
     "execution_count": 170,
     "metadata": {},
     "output_type": "execute_result"
    }
   ],
   "source": [
    "features_normalised.shape"
   ]
  },
  {
   "cell_type": "code",
   "execution_count": 171,
   "metadata": {},
   "outputs": [
    {
     "name": "stderr",
     "output_type": "stream",
     "text": [
      "/Library/Frameworks/Python.framework/Versions/3.10/lib/python3.10/site-packages/keras/src/layers/rnn/rnn.py:204: UserWarning: Do not pass an `input_shape`/`input_dim` argument to a layer. When using Sequential models, prefer using an `Input(shape)` object as the first layer in the model instead.\n",
      "  super().__init__(**kwargs)\n"
     ]
    }
   ],
   "source": [
    "# define model\n",
    "model = Sequential()\n",
    "model.add(LSTM(4, activation='relu', input_shape=(20,10)))\n",
    "model.add(RepeatVector(20))\n",
    "model.add(LSTM(100, activation='relu', return_sequences=True))\n",
    "model.add(TimeDistributed(Dense(10)))\n",
    "model.compile(optimizer='adam', loss='mse')"
   ]
  },
  {
   "cell_type": "code",
   "execution_count": 172,
   "metadata": {},
   "outputs": [
    {
     "name": "stdout",
     "output_type": "stream",
     "text": [
      "Requirement already satisfied: pydot in /Library/Frameworks/Python.framework/Versions/3.10/lib/python3.10/site-packages (2.0.0)\n",
      "Requirement already satisfied: pyparsing>=3 in /Library/Frameworks/Python.framework/Versions/3.10/lib/python3.10/site-packages (from pydot) (3.1.2)\n",
      "Note: you may need to restart the kernel to use updated packages.\n"
     ]
    }
   ],
   "source": [
    "pip install pydot"
   ]
  },
  {
   "cell_type": "code",
   "execution_count": 173,
   "metadata": {},
   "outputs": [
    {
     "name": "stdout",
     "output_type": "stream",
     "text": [
      "Requirement already satisfied: pydot==2.0.0 in /Library/Frameworks/Python.framework/Versions/3.10/lib/python3.10/site-packages (2.0.0)\n",
      "Requirement already satisfied: pyparsing>=3 in /Library/Frameworks/Python.framework/Versions/3.10/lib/python3.10/site-packages (from pydot==2.0.0) (3.1.2)\n",
      "Note: you may need to restart the kernel to use updated packages.\n"
     ]
    }
   ],
   "source": [
    "pip install --upgrade pydot==2.0.0\n"
   ]
  },
  {
   "cell_type": "code",
   "execution_count": 174,
   "metadata": {},
   "outputs": [
    {
     "name": "stdout",
     "output_type": "stream",
     "text": [
      "Epoch 1/100\n",
      "\u001b[1m117/117\u001b[0m \u001b[32m━━━━━━━━━━━━━━━━━━━━\u001b[0m\u001b[37m\u001b[0m \u001b[1m2s\u001b[0m 6ms/step - loss: 0.1169\n",
      "Epoch 2/100\n",
      "\u001b[1m117/117\u001b[0m \u001b[32m━━━━━━━━━━━━━━━━━━━━\u001b[0m\u001b[37m\u001b[0m \u001b[1m1s\u001b[0m 7ms/step - loss: 0.0209\n",
      "Epoch 3/100\n",
      "\u001b[1m117/117\u001b[0m \u001b[32m━━━━━━━━━━━━━━━━━━━━\u001b[0m\u001b[37m\u001b[0m \u001b[1m1s\u001b[0m 7ms/step - loss: 0.0151\n",
      "Epoch 4/100\n",
      "\u001b[1m117/117\u001b[0m \u001b[32m━━━━━━━━━━━━━━━━━━━━\u001b[0m\u001b[37m\u001b[0m \u001b[1m1s\u001b[0m 7ms/step - loss: 0.0141\n",
      "Epoch 5/100\n",
      "\u001b[1m117/117\u001b[0m \u001b[32m━━━━━━━━━━━━━━━━━━━━\u001b[0m\u001b[37m\u001b[0m \u001b[1m1s\u001b[0m 7ms/step - loss: 0.0130\n",
      "Epoch 6/100\n",
      "\u001b[1m117/117\u001b[0m \u001b[32m━━━━━━━━━━━━━━━━━━━━\u001b[0m\u001b[37m\u001b[0m \u001b[1m1s\u001b[0m 7ms/step - loss: 0.0123\n",
      "Epoch 7/100\n",
      "\u001b[1m117/117\u001b[0m \u001b[32m━━━━━━━━━━━━━━━━━━━━\u001b[0m\u001b[37m\u001b[0m \u001b[1m1s\u001b[0m 7ms/step - loss: 0.0117\n",
      "Epoch 8/100\n",
      "\u001b[1m117/117\u001b[0m \u001b[32m━━━━━━━━━━━━━━━━━━━━\u001b[0m\u001b[37m\u001b[0m \u001b[1m1s\u001b[0m 7ms/step - loss: 0.0088\n",
      "Epoch 9/100\n",
      "\u001b[1m117/117\u001b[0m \u001b[32m━━━━━━━━━━━━━━━━━━━━\u001b[0m\u001b[37m\u001b[0m \u001b[1m1s\u001b[0m 7ms/step - loss: 0.0072\n",
      "Epoch 10/100\n",
      "\u001b[1m117/117\u001b[0m \u001b[32m━━━━━━━━━━━━━━━━━━━━\u001b[0m\u001b[37m\u001b[0m \u001b[1m1s\u001b[0m 7ms/step - loss: 0.0064\n",
      "Epoch 11/100\n",
      "\u001b[1m117/117\u001b[0m \u001b[32m━━━━━━━━━━━━━━━━━━━━\u001b[0m\u001b[37m\u001b[0m \u001b[1m1s\u001b[0m 7ms/step - loss: 0.0061\n",
      "Epoch 12/100\n",
      "\u001b[1m117/117\u001b[0m \u001b[32m━━━━━━━━━━━━━━━━━━━━\u001b[0m\u001b[37m\u001b[0m \u001b[1m1s\u001b[0m 7ms/step - loss: 0.0061\n",
      "Epoch 13/100\n",
      "\u001b[1m117/117\u001b[0m \u001b[32m━━━━━━━━━━━━━━━━━━━━\u001b[0m\u001b[37m\u001b[0m \u001b[1m1s\u001b[0m 7ms/step - loss: 0.0059\n",
      "Epoch 14/100\n",
      "\u001b[1m117/117\u001b[0m \u001b[32m━━━━━━━━━━━━━━━━━━━━\u001b[0m\u001b[37m\u001b[0m \u001b[1m1s\u001b[0m 7ms/step - loss: 0.0058\n",
      "Epoch 15/100\n",
      "\u001b[1m117/117\u001b[0m \u001b[32m━━━━━━━━━━━━━━━━━━━━\u001b[0m\u001b[37m\u001b[0m \u001b[1m1s\u001b[0m 7ms/step - loss: 0.0058\n",
      "Epoch 16/100\n",
      "\u001b[1m117/117\u001b[0m \u001b[32m━━━━━━━━━━━━━━━━━━━━\u001b[0m\u001b[37m\u001b[0m \u001b[1m1s\u001b[0m 6ms/step - loss: 0.0058\n",
      "Epoch 17/100\n",
      "\u001b[1m117/117\u001b[0m \u001b[32m━━━━━━━━━━━━━━━━━━━━\u001b[0m\u001b[37m\u001b[0m \u001b[1m1s\u001b[0m 7ms/step - loss: 0.0058\n",
      "Epoch 18/100\n",
      "\u001b[1m117/117\u001b[0m \u001b[32m━━━━━━━━━━━━━━━━━━━━\u001b[0m\u001b[37m\u001b[0m \u001b[1m1s\u001b[0m 6ms/step - loss: 0.0057\n",
      "Epoch 19/100\n",
      "\u001b[1m117/117\u001b[0m \u001b[32m━━━━━━━━━━━━━━━━━━━━\u001b[0m\u001b[37m\u001b[0m \u001b[1m1s\u001b[0m 6ms/step - loss: 0.0057\n",
      "Epoch 20/100\n",
      "\u001b[1m117/117\u001b[0m \u001b[32m━━━━━━━━━━━━━━━━━━━━\u001b[0m\u001b[37m\u001b[0m \u001b[1m1s\u001b[0m 6ms/step - loss: 0.0057\n",
      "Epoch 21/100\n",
      "\u001b[1m117/117\u001b[0m \u001b[32m━━━━━━━━━━━━━━━━━━━━\u001b[0m\u001b[37m\u001b[0m \u001b[1m1s\u001b[0m 6ms/step - loss: 0.0056\n",
      "Epoch 22/100\n",
      "\u001b[1m117/117\u001b[0m \u001b[32m━━━━━━━━━━━━━━━━━━━━\u001b[0m\u001b[37m\u001b[0m \u001b[1m1s\u001b[0m 6ms/step - loss: 0.0056\n",
      "Epoch 23/100\n",
      "\u001b[1m117/117\u001b[0m \u001b[32m━━━━━━━━━━━━━━━━━━━━\u001b[0m\u001b[37m\u001b[0m \u001b[1m1s\u001b[0m 6ms/step - loss: 0.0056\n",
      "Epoch 24/100\n",
      "\u001b[1m117/117\u001b[0m \u001b[32m━━━━━━━━━━━━━━━━━━━━\u001b[0m\u001b[37m\u001b[0m \u001b[1m1s\u001b[0m 6ms/step - loss: 0.0056\n",
      "Epoch 25/100\n",
      "\u001b[1m117/117\u001b[0m \u001b[32m━━━━━━━━━━━━━━━━━━━━\u001b[0m\u001b[37m\u001b[0m \u001b[1m1s\u001b[0m 6ms/step - loss: 0.0056\n",
      "Epoch 26/100\n",
      "\u001b[1m117/117\u001b[0m \u001b[32m━━━━━━━━━━━━━━━━━━━━\u001b[0m\u001b[37m\u001b[0m \u001b[1m1s\u001b[0m 6ms/step - loss: 0.0057\n",
      "Epoch 27/100\n",
      "\u001b[1m117/117\u001b[0m \u001b[32m━━━━━━━━━━━━━━━━━━━━\u001b[0m\u001b[37m\u001b[0m \u001b[1m1s\u001b[0m 6ms/step - loss: 0.0056\n",
      "Epoch 28/100\n",
      "\u001b[1m117/117\u001b[0m \u001b[32m━━━━━━━━━━━━━━━━━━━━\u001b[0m\u001b[37m\u001b[0m \u001b[1m1s\u001b[0m 6ms/step - loss: 0.0056\n",
      "Epoch 29/100\n",
      "\u001b[1m117/117\u001b[0m \u001b[32m━━━━━━━━━━━━━━━━━━━━\u001b[0m\u001b[37m\u001b[0m \u001b[1m1s\u001b[0m 6ms/step - loss: 0.0055\n",
      "Epoch 30/100\n",
      "\u001b[1m117/117\u001b[0m \u001b[32m━━━━━━━━━━━━━━━━━━━━\u001b[0m\u001b[37m\u001b[0m \u001b[1m1s\u001b[0m 6ms/step - loss: 0.0055\n",
      "Epoch 31/100\n",
      "\u001b[1m117/117\u001b[0m \u001b[32m━━━━━━━━━━━━━━━━━━━━\u001b[0m\u001b[37m\u001b[0m \u001b[1m1s\u001b[0m 6ms/step - loss: 0.0055\n",
      "Epoch 32/100\n",
      "\u001b[1m117/117\u001b[0m \u001b[32m━━━━━━━━━━━━━━━━━━━━\u001b[0m\u001b[37m\u001b[0m \u001b[1m1s\u001b[0m 6ms/step - loss: 0.0055\n",
      "Epoch 33/100\n",
      "\u001b[1m117/117\u001b[0m \u001b[32m━━━━━━━━━━━━━━━━━━━━\u001b[0m\u001b[37m\u001b[0m \u001b[1m1s\u001b[0m 7ms/step - loss: 0.0055\n",
      "Epoch 34/100\n",
      "\u001b[1m117/117\u001b[0m \u001b[32m━━━━━━━━━━━━━━━━━━━━\u001b[0m\u001b[37m\u001b[0m \u001b[1m1s\u001b[0m 6ms/step - loss: 0.0054\n",
      "Epoch 35/100\n",
      "\u001b[1m117/117\u001b[0m \u001b[32m━━━━━━━━━━━━━━━━━━━━\u001b[0m\u001b[37m\u001b[0m \u001b[1m1s\u001b[0m 6ms/step - loss: 0.0054\n",
      "Epoch 36/100\n",
      "\u001b[1m117/117\u001b[0m \u001b[32m━━━━━━━━━━━━━━━━━━━━\u001b[0m\u001b[37m\u001b[0m \u001b[1m1s\u001b[0m 6ms/step - loss: 0.0055\n",
      "Epoch 37/100\n",
      "\u001b[1m117/117\u001b[0m \u001b[32m━━━━━━━━━━━━━━━━━━━━\u001b[0m\u001b[37m\u001b[0m \u001b[1m1s\u001b[0m 6ms/step - loss: 0.0054\n",
      "Epoch 38/100\n",
      "\u001b[1m117/117\u001b[0m \u001b[32m━━━━━━━━━━━━━━━━━━━━\u001b[0m\u001b[37m\u001b[0m \u001b[1m1s\u001b[0m 6ms/step - loss: 0.0053\n",
      "Epoch 39/100\n",
      "\u001b[1m117/117\u001b[0m \u001b[32m━━━━━━━━━━━━━━━━━━━━\u001b[0m\u001b[37m\u001b[0m \u001b[1m1s\u001b[0m 6ms/step - loss: 0.0055\n",
      "Epoch 40/100\n",
      "\u001b[1m117/117\u001b[0m \u001b[32m━━━━━━━━━━━━━━━━━━━━\u001b[0m\u001b[37m\u001b[0m \u001b[1m1s\u001b[0m 6ms/step - loss: 0.0054\n",
      "Epoch 41/100\n",
      "\u001b[1m117/117\u001b[0m \u001b[32m━━━━━━━━━━━━━━━━━━━━\u001b[0m\u001b[37m\u001b[0m \u001b[1m1s\u001b[0m 6ms/step - loss: 0.0053\n",
      "Epoch 42/100\n",
      "\u001b[1m117/117\u001b[0m \u001b[32m━━━━━━━━━━━━━━━━━━━━\u001b[0m\u001b[37m\u001b[0m \u001b[1m1s\u001b[0m 6ms/step - loss: 0.0053\n",
      "Epoch 43/100\n",
      "\u001b[1m117/117\u001b[0m \u001b[32m━━━━━━━━━━━━━━━━━━━━\u001b[0m\u001b[37m\u001b[0m \u001b[1m1s\u001b[0m 6ms/step - loss: 0.0053\n",
      "Epoch 44/100\n",
      "\u001b[1m117/117\u001b[0m \u001b[32m━━━━━━━━━━━━━━━━━━━━\u001b[0m\u001b[37m\u001b[0m \u001b[1m1s\u001b[0m 6ms/step - loss: 0.0053\n",
      "Epoch 45/100\n",
      "\u001b[1m117/117\u001b[0m \u001b[32m━━━━━━━━━━━━━━━━━━━━\u001b[0m\u001b[37m\u001b[0m \u001b[1m1s\u001b[0m 6ms/step - loss: 0.0053\n",
      "Epoch 46/100\n",
      "\u001b[1m117/117\u001b[0m \u001b[32m━━━━━━━━━━━━━━━━━━━━\u001b[0m\u001b[37m\u001b[0m \u001b[1m1s\u001b[0m 6ms/step - loss: 0.0053\n",
      "Epoch 47/100\n",
      "\u001b[1m117/117\u001b[0m \u001b[32m━━━━━━━━━━━━━━━━━━━━\u001b[0m\u001b[37m\u001b[0m \u001b[1m1s\u001b[0m 7ms/step - loss: 0.0052\n",
      "Epoch 48/100\n",
      "\u001b[1m117/117\u001b[0m \u001b[32m━━━━━━━━━━━━━━━━━━━━\u001b[0m\u001b[37m\u001b[0m \u001b[1m1s\u001b[0m 6ms/step - loss: 0.0053\n",
      "Epoch 49/100\n",
      "\u001b[1m117/117\u001b[0m \u001b[32m━━━━━━━━━━━━━━━━━━━━\u001b[0m\u001b[37m\u001b[0m \u001b[1m1s\u001b[0m 6ms/step - loss: 0.0053\n",
      "Epoch 50/100\n",
      "\u001b[1m117/117\u001b[0m \u001b[32m━━━━━━━━━━━━━━━━━━━━\u001b[0m\u001b[37m\u001b[0m \u001b[1m1s\u001b[0m 6ms/step - loss: 0.0053\n",
      "Epoch 51/100\n",
      "\u001b[1m117/117\u001b[0m \u001b[32m━━━━━━━━━━━━━━━━━━━━\u001b[0m\u001b[37m\u001b[0m \u001b[1m1s\u001b[0m 6ms/step - loss: 0.0053\n",
      "Epoch 52/100\n",
      "\u001b[1m117/117\u001b[0m \u001b[32m━━━━━━━━━━━━━━━━━━━━\u001b[0m\u001b[37m\u001b[0m \u001b[1m1s\u001b[0m 6ms/step - loss: 0.0052\n",
      "Epoch 53/100\n",
      "\u001b[1m117/117\u001b[0m \u001b[32m━━━━━━━━━━━━━━━━━━━━\u001b[0m\u001b[37m\u001b[0m \u001b[1m1s\u001b[0m 7ms/step - loss: 0.0052\n",
      "Epoch 54/100\n",
      "\u001b[1m117/117\u001b[0m \u001b[32m━━━━━━━━━━━━━━━━━━━━\u001b[0m\u001b[37m\u001b[0m \u001b[1m1s\u001b[0m 7ms/step - loss: 0.0052\n",
      "Epoch 55/100\n",
      "\u001b[1m117/117\u001b[0m \u001b[32m━━━━━━━━━━━━━━━━━━━━\u001b[0m\u001b[37m\u001b[0m \u001b[1m1s\u001b[0m 7ms/step - loss: 0.0051\n",
      "Epoch 56/100\n",
      "\u001b[1m117/117\u001b[0m \u001b[32m━━━━━━━━━━━━━━━━━━━━\u001b[0m\u001b[37m\u001b[0m \u001b[1m1s\u001b[0m 6ms/step - loss: 0.0052\n",
      "Epoch 57/100\n",
      "\u001b[1m117/117\u001b[0m \u001b[32m━━━━━━━━━━━━━━━━━━━━\u001b[0m\u001b[37m\u001b[0m \u001b[1m1s\u001b[0m 6ms/step - loss: 0.0052\n",
      "Epoch 58/100\n",
      "\u001b[1m117/117\u001b[0m \u001b[32m━━━━━━━━━━━━━━━━━━━━\u001b[0m\u001b[37m\u001b[0m \u001b[1m1s\u001b[0m 7ms/step - loss: 0.0052\n",
      "Epoch 59/100\n",
      "\u001b[1m117/117\u001b[0m \u001b[32m━━━━━━━━━━━━━━━━━━━━\u001b[0m\u001b[37m\u001b[0m \u001b[1m1s\u001b[0m 7ms/step - loss: 0.0053\n",
      "Epoch 60/100\n",
      "\u001b[1m117/117\u001b[0m \u001b[32m━━━━━━━━━━━━━━━━━━━━\u001b[0m\u001b[37m\u001b[0m \u001b[1m1s\u001b[0m 7ms/step - loss: 0.0051\n",
      "Epoch 61/100\n",
      "\u001b[1m117/117\u001b[0m \u001b[32m━━━━━━━━━━━━━━━━━━━━\u001b[0m\u001b[37m\u001b[0m \u001b[1m1s\u001b[0m 7ms/step - loss: 0.0051\n",
      "Epoch 62/100\n",
      "\u001b[1m117/117\u001b[0m \u001b[32m━━━━━━━━━━━━━━━━━━━━\u001b[0m\u001b[37m\u001b[0m \u001b[1m1s\u001b[0m 6ms/step - loss: 0.0052\n",
      "Epoch 63/100\n",
      "\u001b[1m117/117\u001b[0m \u001b[32m━━━━━━━━━━━━━━━━━━━━\u001b[0m\u001b[37m\u001b[0m \u001b[1m1s\u001b[0m 6ms/step - loss: 0.0052\n",
      "Epoch 64/100\n",
      "\u001b[1m117/117\u001b[0m \u001b[32m━━━━━━━━━━━━━━━━━━━━\u001b[0m\u001b[37m\u001b[0m \u001b[1m1s\u001b[0m 7ms/step - loss: 0.0052\n",
      "Epoch 65/100\n",
      "\u001b[1m117/117\u001b[0m \u001b[32m━━━━━━━━━━━━━━━━━━━━\u001b[0m\u001b[37m\u001b[0m \u001b[1m1s\u001b[0m 6ms/step - loss: 0.0051\n",
      "Epoch 66/100\n",
      "\u001b[1m117/117\u001b[0m \u001b[32m━━━━━━━━━━━━━━━━━━━━\u001b[0m\u001b[37m\u001b[0m \u001b[1m1s\u001b[0m 7ms/step - loss: 0.0051\n",
      "Epoch 67/100\n",
      "\u001b[1m117/117\u001b[0m \u001b[32m━━━━━━━━━━━━━━━━━━━━\u001b[0m\u001b[37m\u001b[0m \u001b[1m1s\u001b[0m 7ms/step - loss: 0.0051\n",
      "Epoch 68/100\n",
      "\u001b[1m117/117\u001b[0m \u001b[32m━━━━━━━━━━━━━━━━━━━━\u001b[0m\u001b[37m\u001b[0m \u001b[1m1s\u001b[0m 7ms/step - loss: 0.0052\n",
      "Epoch 69/100\n",
      "\u001b[1m117/117\u001b[0m \u001b[32m━━━━━━━━━━━━━━━━━━━━\u001b[0m\u001b[37m\u001b[0m \u001b[1m1s\u001b[0m 7ms/step - loss: 0.0051\n",
      "Epoch 70/100\n",
      "\u001b[1m117/117\u001b[0m \u001b[32m━━━━━━━━━━━━━━━━━━━━\u001b[0m\u001b[37m\u001b[0m \u001b[1m1s\u001b[0m 7ms/step - loss: 0.0051\n",
      "Epoch 71/100\n",
      "\u001b[1m117/117\u001b[0m \u001b[32m━━━━━━━━━━━━━━━━━━━━\u001b[0m\u001b[37m\u001b[0m \u001b[1m1s\u001b[0m 7ms/step - loss: 0.0050\n",
      "Epoch 72/100\n",
      "\u001b[1m117/117\u001b[0m \u001b[32m━━━━━━━━━━━━━━━━━━━━\u001b[0m\u001b[37m\u001b[0m \u001b[1m1s\u001b[0m 6ms/step - loss: 0.0050\n",
      "Epoch 73/100\n",
      "\u001b[1m117/117\u001b[0m \u001b[32m━━━━━━━━━━━━━━━━━━━━\u001b[0m\u001b[37m\u001b[0m \u001b[1m1s\u001b[0m 6ms/step - loss: 0.0050\n",
      "Epoch 74/100\n",
      "\u001b[1m117/117\u001b[0m \u001b[32m━━━━━━━━━━━━━━━━━━━━\u001b[0m\u001b[37m\u001b[0m \u001b[1m1s\u001b[0m 7ms/step - loss: 0.0051\n",
      "Epoch 75/100\n",
      "\u001b[1m117/117\u001b[0m \u001b[32m━━━━━━━━━━━━━━━━━━━━\u001b[0m\u001b[37m\u001b[0m \u001b[1m1s\u001b[0m 7ms/step - loss: 0.0051\n",
      "Epoch 76/100\n",
      "\u001b[1m117/117\u001b[0m \u001b[32m━━━━━━━━━━━━━━━━━━━━\u001b[0m\u001b[37m\u001b[0m \u001b[1m1s\u001b[0m 7ms/step - loss: 0.0051\n",
      "Epoch 77/100\n",
      "\u001b[1m117/117\u001b[0m \u001b[32m━━━━━━━━━━━━━━━━━━━━\u001b[0m\u001b[37m\u001b[0m \u001b[1m1s\u001b[0m 6ms/step - loss: 0.0050\n",
      "Epoch 78/100\n",
      "\u001b[1m117/117\u001b[0m \u001b[32m━━━━━━━━━━━━━━━━━━━━\u001b[0m\u001b[37m\u001b[0m \u001b[1m1s\u001b[0m 7ms/step - loss: 0.0050\n",
      "Epoch 79/100\n",
      "\u001b[1m117/117\u001b[0m \u001b[32m━━━━━━━━━━━━━━━━━━━━\u001b[0m\u001b[37m\u001b[0m \u001b[1m1s\u001b[0m 6ms/step - loss: 0.0050\n",
      "Epoch 80/100\n",
      "\u001b[1m117/117\u001b[0m \u001b[32m━━━━━━━━━━━━━━━━━━━━\u001b[0m\u001b[37m\u001b[0m \u001b[1m1s\u001b[0m 6ms/step - loss: 0.0050\n",
      "Epoch 81/100\n",
      "\u001b[1m117/117\u001b[0m \u001b[32m━━━━━━━━━━━━━━━━━━━━\u001b[0m\u001b[37m\u001b[0m \u001b[1m1s\u001b[0m 7ms/step - loss: 0.0050\n",
      "Epoch 82/100\n",
      "\u001b[1m117/117\u001b[0m \u001b[32m━━━━━━━━━━━━━━━━━━━━\u001b[0m\u001b[37m\u001b[0m \u001b[1m1s\u001b[0m 7ms/step - loss: 0.0050\n",
      "Epoch 83/100\n",
      "\u001b[1m117/117\u001b[0m \u001b[32m━━━━━━━━━━━━━━━━━━━━\u001b[0m\u001b[37m\u001b[0m \u001b[1m1s\u001b[0m 7ms/step - loss: 0.0050\n",
      "Epoch 84/100\n",
      "\u001b[1m117/117\u001b[0m \u001b[32m━━━━━━━━━━━━━━━━━━━━\u001b[0m\u001b[37m\u001b[0m \u001b[1m1s\u001b[0m 7ms/step - loss: 0.0050\n",
      "Epoch 85/100\n",
      "\u001b[1m117/117\u001b[0m \u001b[32m━━━━━━━━━━━━━━━━━━━━\u001b[0m\u001b[37m\u001b[0m \u001b[1m1s\u001b[0m 7ms/step - loss: 0.0050\n",
      "Epoch 86/100\n",
      "\u001b[1m117/117\u001b[0m \u001b[32m━━━━━━━━━━━━━━━━━━━━\u001b[0m\u001b[37m\u001b[0m \u001b[1m1s\u001b[0m 6ms/step - loss: 0.0050\n",
      "Epoch 87/100\n",
      "\u001b[1m117/117\u001b[0m \u001b[32m━━━━━━━━━━━━━━━━━━━━\u001b[0m\u001b[37m\u001b[0m \u001b[1m1s\u001b[0m 6ms/step - loss: 0.0050\n",
      "Epoch 88/100\n",
      "\u001b[1m117/117\u001b[0m \u001b[32m━━━━━━━━━━━━━━━━━━━━\u001b[0m\u001b[37m\u001b[0m \u001b[1m1s\u001b[0m 7ms/step - loss: 0.0050\n",
      "Epoch 89/100\n",
      "\u001b[1m117/117\u001b[0m \u001b[32m━━━━━━━━━━━━━━━━━━━━\u001b[0m\u001b[37m\u001b[0m \u001b[1m1s\u001b[0m 6ms/step - loss: 0.0051\n",
      "Epoch 90/100\n",
      "\u001b[1m117/117\u001b[0m \u001b[32m━━━━━━━━━━━━━━━━━━━━\u001b[0m\u001b[37m\u001b[0m \u001b[1m1s\u001b[0m 6ms/step - loss: 0.0050\n",
      "Epoch 91/100\n",
      "\u001b[1m117/117\u001b[0m \u001b[32m━━━━━━━━━━━━━━━━━━━━\u001b[0m\u001b[37m\u001b[0m \u001b[1m1s\u001b[0m 6ms/step - loss: 0.0050\n",
      "Epoch 92/100\n",
      "\u001b[1m117/117\u001b[0m \u001b[32m━━━━━━━━━━━━━━━━━━━━\u001b[0m\u001b[37m\u001b[0m \u001b[1m1s\u001b[0m 7ms/step - loss: 0.0050\n",
      "Epoch 93/100\n",
      "\u001b[1m117/117\u001b[0m \u001b[32m━━━━━━━━━━━━━━━━━━━━\u001b[0m\u001b[37m\u001b[0m \u001b[1m1s\u001b[0m 6ms/step - loss: 0.0050\n",
      "Epoch 94/100\n",
      "\u001b[1m117/117\u001b[0m \u001b[32m━━━━━━━━━━━━━━━━━━━━\u001b[0m\u001b[37m\u001b[0m \u001b[1m1s\u001b[0m 6ms/step - loss: 0.0050\n",
      "Epoch 95/100\n",
      "\u001b[1m117/117\u001b[0m \u001b[32m━━━━━━━━━━━━━━━━━━━━\u001b[0m\u001b[37m\u001b[0m \u001b[1m1s\u001b[0m 7ms/step - loss: 0.0049\n",
      "Epoch 96/100\n",
      "\u001b[1m117/117\u001b[0m \u001b[32m━━━━━━━━━━━━━━━━━━━━\u001b[0m\u001b[37m\u001b[0m \u001b[1m1s\u001b[0m 6ms/step - loss: 0.0050\n",
      "Epoch 97/100\n",
      "\u001b[1m117/117\u001b[0m \u001b[32m━━━━━━━━━━━━━━━━━━━━\u001b[0m\u001b[37m\u001b[0m \u001b[1m1s\u001b[0m 6ms/step - loss: 0.0050\n",
      "Epoch 98/100\n",
      "\u001b[1m117/117\u001b[0m \u001b[32m━━━━━━━━━━━━━━━━━━━━\u001b[0m\u001b[37m\u001b[0m \u001b[1m1s\u001b[0m 7ms/step - loss: 0.0050\n",
      "Epoch 99/100\n",
      "\u001b[1m117/117\u001b[0m \u001b[32m━━━━━━━━━━━━━━━━━━━━\u001b[0m\u001b[37m\u001b[0m \u001b[1m1s\u001b[0m 6ms/step - loss: 0.0049\n",
      "Epoch 100/100\n",
      "\u001b[1m117/117\u001b[0m \u001b[32m━━━━━━━━━━━━━━━━━━━━\u001b[0m\u001b[37m\u001b[0m \u001b[1m1s\u001b[0m 6ms/step - loss: 0.0049\n"
     ]
    },
    {
     "data": {
      "image/png": "[encoded data removed]",
      "text/plain": [
       "<IPython.core.display.Image object>"
      ]
     },
     "execution_count": 174,
     "metadata": {},
     "output_type": "execute_result"
    }
   ],
   "source": [
    "# fit model\n",
    "model.fit(features_normalised, features_normalised, epochs=100, verbose=1)\n",
    "plot_model(model, show_shapes=True, to_file='./results/reconstruct_lstm_autoencoder.png')"
   ]
  },
  {
   "cell_type": "code",
   "execution_count": 175,
   "metadata": {},
   "outputs": [
    {
     "data": {
      "text/html": [
       "<pre style=\"white-space:pre;overflow-x:auto;line-height:normal;font-family:Menlo,'DejaVu Sans Mono',consolas,'Courier New',monospace\"><span style=\"font-weight: bold\">Model: \"sequential_3\"</span>\n",
       "</pre>\n"
      ],
      "text/plain": [
       "\u001b[1mModel: \"sequential_3\"\u001b[0m\n"
      ]
     },
     "metadata": {},
     "output_type": "display_data"
    },
    {
     "data": {
      "text/html": [
       "<pre style=\"white-space:pre;overflow-x:auto;line-height:normal;font-family:Menlo,'DejaVu Sans Mono',consolas,'Courier New',monospace\">┏━━━━━━━━━━━━━━━━━━━━━━━━━━━━━━━━━┳━━━━━━━━━━━━━━━━━━━━━━━━┳━━━━━━━━━━━━━━━┓\n",
       "┃<span style=\"font-weight: bold\"> Layer (type)                    </span>┃<span style=\"font-weight: bold\"> Output Shape           </span>┃<span style=\"font-weight: bold\">       Param # </span>┃\n",
       "┡━━━━━━━━━━━━━━━━━━━━━━━━━━━━━━━━━╇━━━━━━━━━━━━━━━━━━━━━━━━╇━━━━━━━━━━━━━━━┩\n",
       "│ lstm_6 (<span style=\"color: #0087ff; text-decoration-color: #0087ff\">LSTM</span>)                   │ (<span style=\"color: #00d7ff; text-decoration-color: #00d7ff\">None</span>, <span style=\"color: #00af00; text-decoration-color: #00af00\">4</span>)              │           <span style=\"color: #00af00; text-decoration-color: #00af00\">240</span> │\n",
       "├─────────────────────────────────┼────────────────────────┼───────────────┤\n",
       "│ repeat_vector_3 (<span style=\"color: #0087ff; text-decoration-color: #0087ff\">RepeatVector</span>)  │ (<span style=\"color: #00d7ff; text-decoration-color: #00d7ff\">None</span>, <span style=\"color: #00af00; text-decoration-color: #00af00\">20</span>, <span style=\"color: #00af00; text-decoration-color: #00af00\">4</span>)          │             <span style=\"color: #00af00; text-decoration-color: #00af00\">0</span> │\n",
       "├─────────────────────────────────┼────────────────────────┼───────────────┤\n",
       "│ lstm_7 (<span style=\"color: #0087ff; text-decoration-color: #0087ff\">LSTM</span>)                   │ (<span style=\"color: #00d7ff; text-decoration-color: #00d7ff\">None</span>, <span style=\"color: #00af00; text-decoration-color: #00af00\">20</span>, <span style=\"color: #00af00; text-decoration-color: #00af00\">100</span>)        │        <span style=\"color: #00af00; text-decoration-color: #00af00\">42,000</span> │\n",
       "├─────────────────────────────────┼────────────────────────┼───────────────┤\n",
       "│ time_distributed_3              │ (<span style=\"color: #00d7ff; text-decoration-color: #00d7ff\">None</span>, <span style=\"color: #00af00; text-decoration-color: #00af00\">20</span>, <span style=\"color: #00af00; text-decoration-color: #00af00\">10</span>)         │         <span style=\"color: #00af00; text-decoration-color: #00af00\">1,010</span> │\n",
       "│ (<span style=\"color: #0087ff; text-decoration-color: #0087ff\">TimeDistributed</span>)               │                        │               │\n",
       "└─────────────────────────────────┴────────────────────────┴───────────────┘\n",
       "</pre>\n"
      ],
      "text/plain": [
       "┏━━━━━━━━━━━━━━━━━━━━━━━━━━━━━━━━━┳━━━━━━━━━━━━━━━━━━━━━━━━┳━━━━━━━━━━━━━━━┓\n",
       "┃\u001b[1m \u001b[0m\u001b[1mLayer (type)                   \u001b[0m\u001b[1m \u001b[0m┃\u001b[1m \u001b[0m\u001b[1mOutput Shape          \u001b[0m\u001b[1m \u001b[0m┃\u001b[1m \u001b[0m\u001b[1m      Param #\u001b[0m\u001b[1m \u001b[0m┃\n",
       "┡━━━━━━━━━━━━━━━━━━━━━━━━━━━━━━━━━╇━━━━━━━━━━━━━━━━━━━━━━━━╇━━━━━━━━━━━━━━━┩\n",
       "│ lstm_6 (\u001b[38;5;33mLSTM\u001b[0m)                   │ (\u001b[38;5;45mNone\u001b[0m, \u001b[38;5;34m4\u001b[0m)              │           \u001b[38;5;34m240\u001b[0m │\n",
       "├─────────────────────────────────┼────────────────────────┼───────────────┤\n",
       "│ repeat_vector_3 (\u001b[38;5;33mRepeatVector\u001b[0m)  │ (\u001b[38;5;45mNone\u001b[0m, \u001b[38;5;34m20\u001b[0m, \u001b[38;5;34m4\u001b[0m)          │             \u001b[38;5;34m0\u001b[0m │\n",
       "├─────────────────────────────────┼────────────────────────┼───────────────┤\n",
       "│ lstm_7 (\u001b[38;5;33mLSTM\u001b[0m)                   │ (\u001b[38;5;45mNone\u001b[0m, \u001b[38;5;34m20\u001b[0m, \u001b[38;5;34m100\u001b[0m)        │        \u001b[38;5;34m42,000\u001b[0m │\n",
       "├─────────────────────────────────┼────────────────────────┼───────────────┤\n",
       "│ time_distributed_3              │ (\u001b[38;5;45mNone\u001b[0m, \u001b[38;5;34m20\u001b[0m, \u001b[38;5;34m10\u001b[0m)         │         \u001b[38;5;34m1,010\u001b[0m │\n",
       "│ (\u001b[38;5;33mTimeDistributed\u001b[0m)               │                        │               │\n",
       "└─────────────────────────────────┴────────────────────────┴───────────────┘\n"
      ]
     },
     "metadata": {},
     "output_type": "display_data"
    },
    {
     "data": {
      "text/html": [
       "<pre style=\"white-space:pre;overflow-x:auto;line-height:normal;font-family:Menlo,'DejaVu Sans Mono',consolas,'Courier New',monospace\"><span style=\"font-weight: bold\"> Total params: </span><span style=\"color: #00af00; text-decoration-color: #00af00\">129,752</span> (506.85 KB)\n",
       "</pre>\n"
      ],
      "text/plain": [
       "\u001b[1m Total params: \u001b[0m\u001b[38;5;34m129,752\u001b[0m (506.85 KB)\n"
      ]
     },
     "metadata": {},
     "output_type": "display_data"
    },
    {
     "data": {
      "text/html": [
       "<pre style=\"white-space:pre;overflow-x:auto;line-height:normal;font-family:Menlo,'DejaVu Sans Mono',consolas,'Courier New',monospace\"><span style=\"font-weight: bold\"> Trainable params: </span><span style=\"color: #00af00; text-decoration-color: #00af00\">43,250</span> (168.95 KB)\n",
       "</pre>\n"
      ],
      "text/plain": [
       "\u001b[1m Trainable params: \u001b[0m\u001b[38;5;34m43,250\u001b[0m (168.95 KB)\n"
      ]
     },
     "metadata": {},
     "output_type": "display_data"
    },
    {
     "data": {
      "text/html": [
       "<pre style=\"white-space:pre;overflow-x:auto;line-height:normal;font-family:Menlo,'DejaVu Sans Mono',consolas,'Courier New',monospace\"><span style=\"font-weight: bold\"> Non-trainable params: </span><span style=\"color: #00af00; text-decoration-color: #00af00\">0</span> (0.00 B)\n",
       "</pre>\n"
      ],
      "text/plain": [
       "\u001b[1m Non-trainable params: \u001b[0m\u001b[38;5;34m0\u001b[0m (0.00 B)\n"
      ]
     },
     "metadata": {},
     "output_type": "display_data"
    },
    {
     "data": {
      "text/html": [
       "<pre style=\"white-space:pre;overflow-x:auto;line-height:normal;font-family:Menlo,'DejaVu Sans Mono',consolas,'Courier New',monospace\"><span style=\"font-weight: bold\"> Optimizer params: </span><span style=\"color: #00af00; text-decoration-color: #00af00\">86,502</span> (337.90 KB)\n",
       "</pre>\n"
      ],
      "text/plain": [
       "\u001b[1m Optimizer params: \u001b[0m\u001b[38;5;34m86,502\u001b[0m (337.90 KB)\n"
      ]
     },
     "metadata": {},
     "output_type": "display_data"
    }
   ],
   "source": [
    "model.summary()"
   ]
  },
  {
   "cell_type": "code",
   "execution_count": 176,
   "metadata": {
    "scrolled": true
   },
   "outputs": [
    {
     "data": {
      "image/png": "[encoded data removed]",
      "text/plain": [
       "<IPython.core.display.Image object>"
      ]
     },
     "execution_count": 176,
     "metadata": {},
     "output_type": "execute_result"
    }
   ],
   "source": [
    "# connect the encoder LSTM as the output layer\n",
    "model_feature = Model(inputs=model.inputs, outputs=model.layers[1].output)\n",
    "plot_model(model_feature, show_shapes=True, show_layer_names=True, to_file='./results/lstm_encoder.png')"
   ]
  },
  {
   "cell_type": "code",
   "execution_count": 177,
   "metadata": {},
   "outputs": [
    {
     "data": {
      "text/html": [
       "<pre style=\"white-space:pre;overflow-x:auto;line-height:normal;font-family:Menlo,'DejaVu Sans Mono',consolas,'Courier New',monospace\"><span style=\"font-weight: bold\">Model: \"functional_23\"</span>\n",
       "</pre>\n"
      ],
      "text/plain": [
       "\u001b[1mModel: \"functional_23\"\u001b[0m\n"
      ]
     },
     "metadata": {},
     "output_type": "display_data"
    },
    {
     "data": {
      "text/html": [
       "<pre style=\"white-space:pre;overflow-x:auto;line-height:normal;font-family:Menlo,'DejaVu Sans Mono',consolas,'Courier New',monospace\">┏━━━━━━━━━━━━━━━━━━━━━━━━━━━━━━━━━┳━━━━━━━━━━━━━━━━━━━━━━━━┳━━━━━━━━━━━━━━━┓\n",
       "┃<span style=\"font-weight: bold\"> Layer (type)                    </span>┃<span style=\"font-weight: bold\"> Output Shape           </span>┃<span style=\"font-weight: bold\">       Param # </span>┃\n",
       "┡━━━━━━━━━━━━━━━━━━━━━━━━━━━━━━━━━╇━━━━━━━━━━━━━━━━━━━━━━━━╇━━━━━━━━━━━━━━━┩\n",
       "│ input_layer_3 (<span style=\"color: #0087ff; text-decoration-color: #0087ff\">InputLayer</span>)      │ (<span style=\"color: #00d7ff; text-decoration-color: #00d7ff\">None</span>, <span style=\"color: #00af00; text-decoration-color: #00af00\">20</span>, <span style=\"color: #00af00; text-decoration-color: #00af00\">10</span>)         │             <span style=\"color: #00af00; text-decoration-color: #00af00\">0</span> │\n",
       "├─────────────────────────────────┼────────────────────────┼───────────────┤\n",
       "│ lstm_6 (<span style=\"color: #0087ff; text-decoration-color: #0087ff\">LSTM</span>)                   │ (<span style=\"color: #00d7ff; text-decoration-color: #00d7ff\">None</span>, <span style=\"color: #00af00; text-decoration-color: #00af00\">4</span>)              │           <span style=\"color: #00af00; text-decoration-color: #00af00\">240</span> │\n",
       "├─────────────────────────────────┼────────────────────────┼───────────────┤\n",
       "│ repeat_vector_3 (<span style=\"color: #0087ff; text-decoration-color: #0087ff\">RepeatVector</span>)  │ (<span style=\"color: #00d7ff; text-decoration-color: #00d7ff\">None</span>, <span style=\"color: #00af00; text-decoration-color: #00af00\">20</span>, <span style=\"color: #00af00; text-decoration-color: #00af00\">4</span>)          │             <span style=\"color: #00af00; text-decoration-color: #00af00\">0</span> │\n",
       "└─────────────────────────────────┴────────────────────────┴───────────────┘\n",
       "</pre>\n"
      ],
      "text/plain": [
       "┏━━━━━━━━━━━━━━━━━━━━━━━━━━━━━━━━━┳━━━━━━━━━━━━━━━━━━━━━━━━┳━━━━━━━━━━━━━━━┓\n",
       "┃\u001b[1m \u001b[0m\u001b[1mLayer (type)                   \u001b[0m\u001b[1m \u001b[0m┃\u001b[1m \u001b[0m\u001b[1mOutput Shape          \u001b[0m\u001b[1m \u001b[0m┃\u001b[1m \u001b[0m\u001b[1m      Param #\u001b[0m\u001b[1m \u001b[0m┃\n",
       "┡━━━━━━━━━━━━━━━━━━━━━━━━━━━━━━━━━╇━━━━━━━━━━━━━━━━━━━━━━━━╇━━━━━━━━━━━━━━━┩\n",
       "│ input_layer_3 (\u001b[38;5;33mInputLayer\u001b[0m)      │ (\u001b[38;5;45mNone\u001b[0m, \u001b[38;5;34m20\u001b[0m, \u001b[38;5;34m10\u001b[0m)         │             \u001b[38;5;34m0\u001b[0m │\n",
       "├─────────────────────────────────┼────────────────────────┼───────────────┤\n",
       "│ lstm_6 (\u001b[38;5;33mLSTM\u001b[0m)                   │ (\u001b[38;5;45mNone\u001b[0m, \u001b[38;5;34m4\u001b[0m)              │           \u001b[38;5;34m240\u001b[0m │\n",
       "├─────────────────────────────────┼────────────────────────┼───────────────┤\n",
       "│ repeat_vector_3 (\u001b[38;5;33mRepeatVector\u001b[0m)  │ (\u001b[38;5;45mNone\u001b[0m, \u001b[38;5;34m20\u001b[0m, \u001b[38;5;34m4\u001b[0m)          │             \u001b[38;5;34m0\u001b[0m │\n",
       "└─────────────────────────────────┴────────────────────────┴───────────────┘\n"
      ]
     },
     "metadata": {},
     "output_type": "display_data"
    },
    {
     "data": {
      "text/html": [
       "<pre style=\"white-space:pre;overflow-x:auto;line-height:normal;font-family:Menlo,'DejaVu Sans Mono',consolas,'Courier New',monospace\"><span style=\"font-weight: bold\"> Total params: </span><span style=\"color: #00af00; text-decoration-color: #00af00\">240</span> (960.00 B)\n",
       "</pre>\n"
      ],
      "text/plain": [
       "\u001b[1m Total params: \u001b[0m\u001b[38;5;34m240\u001b[0m (960.00 B)\n"
      ]
     },
     "metadata": {},
     "output_type": "display_data"
    },
    {
     "data": {
      "text/html": [
       "<pre style=\"white-space:pre;overflow-x:auto;line-height:normal;font-family:Menlo,'DejaVu Sans Mono',consolas,'Courier New',monospace\"><span style=\"font-weight: bold\"> Trainable params: </span><span style=\"color: #00af00; text-decoration-color: #00af00\">240</span> (960.00 B)\n",
       "</pre>\n"
      ],
      "text/plain": [
       "\u001b[1m Trainable params: \u001b[0m\u001b[38;5;34m240\u001b[0m (960.00 B)\n"
      ]
     },
     "metadata": {},
     "output_type": "display_data"
    },
    {
     "data": {
      "text/html": [
       "<pre style=\"white-space:pre;overflow-x:auto;line-height:normal;font-family:Menlo,'DejaVu Sans Mono',consolas,'Courier New',monospace\"><span style=\"font-weight: bold\"> Non-trainable params: </span><span style=\"color: #00af00; text-decoration-color: #00af00\">0</span> (0.00 B)\n",
       "</pre>\n"
      ],
      "text/plain": [
       "\u001b[1m Non-trainable params: \u001b[0m\u001b[38;5;34m0\u001b[0m (0.00 B)\n"
      ]
     },
     "metadata": {},
     "output_type": "display_data"
    }
   ],
   "source": [
    "model_feature.summary()"
   ]
  },
  {
   "cell_type": "markdown",
   "metadata": {},
   "source": [
    "### 5.4 Get the Reconstructed Features"
   ]
  },
  {
   "cell_type": "code",
   "execution_count": 178,
   "metadata": {
    "scrolled": true
   },
   "outputs": [
    {
     "name": "stdout",
     "output_type": "stream",
     "text": [
      "\u001b[1m117/117\u001b[0m \u001b[32m━━━━━━━━━━━━━━━━━━━━\u001b[0m\u001b[37m\u001b[0m \u001b[1m0s\u001b[0m 915us/step\n",
      "(3730, 20, 4)\n"
     ]
    }
   ],
   "source": [
    "# get the feature vector for the input sequence\n",
    "yhat = model_feature.predict(features_normalised)\n",
    "print(yhat.shape)"
   ]
  },
  {
   "cell_type": "code",
   "execution_count": 179,
   "metadata": {},
   "outputs": [],
   "source": [
    "# reshape the vector\n",
    "features_reduced = yhat.reshape(-1,4)"
   ]
  },
  {
   "cell_type": "code",
   "execution_count": 180,
   "metadata": {},
   "outputs": [
    {
     "data": {
      "text/plain": [
       "(74600, 18)"
      ]
     },
     "execution_count": 180,
     "metadata": {},
     "output_type": "execute_result"
    }
   ],
   "source": [
    "df.shape"
   ]
  },
  {
   "cell_type": "code",
   "execution_count": 181,
   "metadata": {},
   "outputs": [
    {
     "data": {
      "text/plain": [
       "(74600, 4)"
      ]
     },
     "execution_count": 181,
     "metadata": {},
     "output_type": "execute_result"
    }
   ],
   "source": [
    "features_reduced.shape"
   ]
  },
  {
   "cell_type": "code",
   "execution_count": 182,
   "metadata": {},
   "outputs": [],
   "source": [
    "# Copy original data frame and drop the original features\n",
    "df_reduced = df.copy()\n",
    "df_reduced = df_reduced .drop(features_list, axis=1)"
   ]
  },
  {
   "cell_type": "code",
   "execution_count": 183,
   "metadata": {},
   "outputs": [
    {
     "data": {
      "text/html": [
       "<div>\n",
       "<style scoped>\n",
       "    .dataframe tbody tr th:only-of-type {\n",
       "        vertical-align: middle;\n",
       "    }\n",
       "\n",
       "    .dataframe tbody tr th {\n",
       "        vertical-align: top;\n",
       "    }\n",
       "\n",
       "    .dataframe thead th {\n",
       "        text-align: right;\n",
       "    }\n",
       "</style>\n",
       "<table border=\"1\" class=\"dataframe\">\n",
       "  <thead>\n",
       "    <tr style=\"text-align: right;\">\n",
       "      <th></th>\n",
       "      <th>date</th>\n",
       "      <th>tic</th>\n",
       "      <th>close</th>\n",
       "      <th>high</th>\n",
       "      <th>low</th>\n",
       "      <th>open</th>\n",
       "      <th>volume</th>\n",
       "      <th>cov_list</th>\n",
       "    </tr>\n",
       "  </thead>\n",
       "  <tbody>\n",
       "    <tr>\n",
       "      <th>0</th>\n",
       "      <td>2009-01-13</td>\n",
       "      <td>ASIANPAINT.NS</td>\n",
       "      <td>91.699997</td>\n",
       "      <td>88.500000</td>\n",
       "      <td>91.235001</td>\n",
       "      <td>88.500000</td>\n",
       "      <td>65800</td>\n",
       "      <td>[[0.0005821350723573744, 0.0001385649017777150...</td>\n",
       "    </tr>\n",
       "    <tr>\n",
       "      <th>1</th>\n",
       "      <td>2009-01-13</td>\n",
       "      <td>CIPLA.NS</td>\n",
       "      <td>189.649994</td>\n",
       "      <td>184.000000</td>\n",
       "      <td>185.350006</td>\n",
       "      <td>185.000000</td>\n",
       "      <td>901712</td>\n",
       "      <td>[[0.0005821350723573744, 0.0001385649017777150...</td>\n",
       "    </tr>\n",
       "    <tr>\n",
       "      <th>2</th>\n",
       "      <td>2009-01-13</td>\n",
       "      <td>DRREDDY.NS</td>\n",
       "      <td>478.000000</td>\n",
       "      <td>448.000000</td>\n",
       "      <td>452.750000</td>\n",
       "      <td>465.750000</td>\n",
       "      <td>544994</td>\n",
       "      <td>[[0.0005821350723573744, 0.0001385649017777150...</td>\n",
       "    </tr>\n",
       "    <tr>\n",
       "      <th>3</th>\n",
       "      <td>2009-01-13</td>\n",
       "      <td>GAIL.NS</td>\n",
       "      <td>39.375019</td>\n",
       "      <td>37.875019</td>\n",
       "      <td>38.756268</td>\n",
       "      <td>38.606270</td>\n",
       "      <td>9334277</td>\n",
       "      <td>[[0.0005821350723573744, 0.0001385649017777150...</td>\n",
       "    </tr>\n",
       "    <tr>\n",
       "      <th>4</th>\n",
       "      <td>2009-01-13</td>\n",
       "      <td>GRASIM.NS</td>\n",
       "      <td>209.852203</td>\n",
       "      <td>202.908554</td>\n",
       "      <td>204.891357</td>\n",
       "      <td>205.570282</td>\n",
       "      <td>1994905</td>\n",
       "      <td>[[0.0005821350723573744, 0.0001385649017777150...</td>\n",
       "    </tr>\n",
       "  </tbody>\n",
       "</table>\n",
       "</div>"
      ],
      "text/plain": [
       "         date            tic       close        high         low        open  \\\n",
       "0  2009-01-13  ASIANPAINT.NS   91.699997   88.500000   91.235001   88.500000   \n",
       "1  2009-01-13       CIPLA.NS  189.649994  184.000000  185.350006  185.000000   \n",
       "2  2009-01-13     DRREDDY.NS  478.000000  448.000000  452.750000  465.750000   \n",
       "3  2009-01-13        GAIL.NS   39.375019   37.875019   38.756268   38.606270   \n",
       "4  2009-01-13      GRASIM.NS  209.852203  202.908554  204.891357  205.570282   \n",
       "\n",
       "    volume                                           cov_list  \n",
       "0    65800  [[0.0005821350723573744, 0.0001385649017777150...  \n",
       "1   901712  [[0.0005821350723573744, 0.0001385649017777150...  \n",
       "2   544994  [[0.0005821350723573744, 0.0001385649017777150...  \n",
       "3  9334277  [[0.0005821350723573744, 0.0001385649017777150...  \n",
       "4  1994905  [[0.0005821350723573744, 0.0001385649017777150...  "
      ]
     },
     "execution_count": 183,
     "metadata": {},
     "output_type": "execute_result"
    }
   ],
   "source": [
    "df_reduced.head()"
   ]
  },
  {
   "cell_type": "code",
   "execution_count": 184,
   "metadata": {},
   "outputs": [],
   "source": [
    "# convert the reduced features to a data frame and merge with the original data frame\n",
    "features_reduced_df = pd.DataFrame(features_reduced, columns=['f01','f02','f03','f04'])"
   ]
  },
  {
   "cell_type": "code",
   "execution_count": 185,
   "metadata": {},
   "outputs": [
    {
     "data": {
      "text/html": [
       "<div>\n",
       "<style scoped>\n",
       "    .dataframe tbody tr th:only-of-type {\n",
       "        vertical-align: middle;\n",
       "    }\n",
       "\n",
       "    .dataframe tbody tr th {\n",
       "        vertical-align: top;\n",
       "    }\n",
       "\n",
       "    .dataframe thead th {\n",
       "        text-align: right;\n",
       "    }\n",
       "</style>\n",
       "<table border=\"1\" class=\"dataframe\">\n",
       "  <thead>\n",
       "    <tr style=\"text-align: right;\">\n",
       "      <th></th>\n",
       "      <th>f01</th>\n",
       "      <th>f02</th>\n",
       "      <th>f03</th>\n",
       "      <th>f04</th>\n",
       "    </tr>\n",
       "  </thead>\n",
       "  <tbody>\n",
       "    <tr>\n",
       "      <th>0</th>\n",
       "      <td>0.646335</td>\n",
       "      <td>0.708096</td>\n",
       "      <td>0.085455</td>\n",
       "      <td>2.997396</td>\n",
       "    </tr>\n",
       "    <tr>\n",
       "      <th>1</th>\n",
       "      <td>0.646335</td>\n",
       "      <td>0.708096</td>\n",
       "      <td>0.085455</td>\n",
       "      <td>2.997396</td>\n",
       "    </tr>\n",
       "    <tr>\n",
       "      <th>2</th>\n",
       "      <td>0.646335</td>\n",
       "      <td>0.708096</td>\n",
       "      <td>0.085455</td>\n",
       "      <td>2.997396</td>\n",
       "    </tr>\n",
       "    <tr>\n",
       "      <th>3</th>\n",
       "      <td>0.646335</td>\n",
       "      <td>0.708096</td>\n",
       "      <td>0.085455</td>\n",
       "      <td>2.997396</td>\n",
       "    </tr>\n",
       "    <tr>\n",
       "      <th>4</th>\n",
       "      <td>0.646335</td>\n",
       "      <td>0.708096</td>\n",
       "      <td>0.085455</td>\n",
       "      <td>2.997396</td>\n",
       "    </tr>\n",
       "  </tbody>\n",
       "</table>\n",
       "</div>"
      ],
      "text/plain": [
       "        f01       f02       f03       f04\n",
       "0  0.646335  0.708096  0.085455  2.997396\n",
       "1  0.646335  0.708096  0.085455  2.997396\n",
       "2  0.646335  0.708096  0.085455  2.997396\n",
       "3  0.646335  0.708096  0.085455  2.997396\n",
       "4  0.646335  0.708096  0.085455  2.997396"
      ]
     },
     "execution_count": 185,
     "metadata": {},
     "output_type": "execute_result"
    }
   ],
   "source": [
    "features_reduced_df.head()"
   ]
  },
  {
   "cell_type": "code",
   "execution_count": 186,
   "metadata": {},
   "outputs": [],
   "source": [
    "df_reduced[['f01','f02','f03','f04']] = features_reduced_df[['f01','f02','f03','f04']]"
   ]
  },
  {
   "cell_type": "code",
   "execution_count": 187,
   "metadata": {},
   "outputs": [
    {
     "data": {
      "text/html": [
       "<div>\n",
       "<style scoped>\n",
       "    .dataframe tbody tr th:only-of-type {\n",
       "        vertical-align: middle;\n",
       "    }\n",
       "\n",
       "    .dataframe tbody tr th {\n",
       "        vertical-align: top;\n",
       "    }\n",
       "\n",
       "    .dataframe thead th {\n",
       "        text-align: right;\n",
       "    }\n",
       "</style>\n",
       "<table border=\"1\" class=\"dataframe\">\n",
       "  <thead>\n",
       "    <tr style=\"text-align: right;\">\n",
       "      <th></th>\n",
       "      <th>date</th>\n",
       "      <th>tic</th>\n",
       "      <th>close</th>\n",
       "      <th>high</th>\n",
       "      <th>low</th>\n",
       "      <th>open</th>\n",
       "      <th>volume</th>\n",
       "      <th>cov_list</th>\n",
       "      <th>f01</th>\n",
       "      <th>f02</th>\n",
       "      <th>f03</th>\n",
       "      <th>f04</th>\n",
       "    </tr>\n",
       "  </thead>\n",
       "  <tbody>\n",
       "    <tr>\n",
       "      <th>0</th>\n",
       "      <td>2009-01-13</td>\n",
       "      <td>ASIANPAINT.NS</td>\n",
       "      <td>91.699997</td>\n",
       "      <td>88.500000</td>\n",
       "      <td>91.235001</td>\n",
       "      <td>88.500000</td>\n",
       "      <td>65800</td>\n",
       "      <td>[[0.0005821350723573744, 0.0001385649017777150...</td>\n",
       "      <td>0.646335</td>\n",
       "      <td>0.708096</td>\n",
       "      <td>0.085455</td>\n",
       "      <td>2.997396</td>\n",
       "    </tr>\n",
       "    <tr>\n",
       "      <th>1</th>\n",
       "      <td>2009-01-13</td>\n",
       "      <td>CIPLA.NS</td>\n",
       "      <td>189.649994</td>\n",
       "      <td>184.000000</td>\n",
       "      <td>185.350006</td>\n",
       "      <td>185.000000</td>\n",
       "      <td>901712</td>\n",
       "      <td>[[0.0005821350723573744, 0.0001385649017777150...</td>\n",
       "      <td>0.646335</td>\n",
       "      <td>0.708096</td>\n",
       "      <td>0.085455</td>\n",
       "      <td>2.997396</td>\n",
       "    </tr>\n",
       "    <tr>\n",
       "      <th>2</th>\n",
       "      <td>2009-01-13</td>\n",
       "      <td>DRREDDY.NS</td>\n",
       "      <td>478.000000</td>\n",
       "      <td>448.000000</td>\n",
       "      <td>452.750000</td>\n",
       "      <td>465.750000</td>\n",
       "      <td>544994</td>\n",
       "      <td>[[0.0005821350723573744, 0.0001385649017777150...</td>\n",
       "      <td>0.646335</td>\n",
       "      <td>0.708096</td>\n",
       "      <td>0.085455</td>\n",
       "      <td>2.997396</td>\n",
       "    </tr>\n",
       "    <tr>\n",
       "      <th>3</th>\n",
       "      <td>2009-01-13</td>\n",
       "      <td>GAIL.NS</td>\n",
       "      <td>39.375019</td>\n",
       "      <td>37.875019</td>\n",
       "      <td>38.756268</td>\n",
       "      <td>38.606270</td>\n",
       "      <td>9334277</td>\n",
       "      <td>[[0.0005821350723573744, 0.0001385649017777150...</td>\n",
       "      <td>0.646335</td>\n",
       "      <td>0.708096</td>\n",
       "      <td>0.085455</td>\n",
       "      <td>2.997396</td>\n",
       "    </tr>\n",
       "    <tr>\n",
       "      <th>4</th>\n",
       "      <td>2009-01-13</td>\n",
       "      <td>GRASIM.NS</td>\n",
       "      <td>209.852203</td>\n",
       "      <td>202.908554</td>\n",
       "      <td>204.891357</td>\n",
       "      <td>205.570282</td>\n",
       "      <td>1994905</td>\n",
       "      <td>[[0.0005821350723573744, 0.0001385649017777150...</td>\n",
       "      <td>0.646335</td>\n",
       "      <td>0.708096</td>\n",
       "      <td>0.085455</td>\n",
       "      <td>2.997396</td>\n",
       "    </tr>\n",
       "    <tr>\n",
       "      <th>...</th>\n",
       "      <td>...</td>\n",
       "      <td>...</td>\n",
       "      <td>...</td>\n",
       "      <td>...</td>\n",
       "      <td>...</td>\n",
       "      <td>...</td>\n",
       "      <td>...</td>\n",
       "      <td>...</td>\n",
       "      <td>...</td>\n",
       "      <td>...</td>\n",
       "      <td>...</td>\n",
       "      <td>...</td>\n",
       "    </tr>\n",
       "    <tr>\n",
       "      <th>74595</th>\n",
       "      <td>2024-02-28</td>\n",
       "      <td>RELIANCE.NS</td>\n",
       "      <td>2982.550049</td>\n",
       "      <td>2900.350098</td>\n",
       "      <td>2911.250000</td>\n",
       "      <td>2966.000000</td>\n",
       "      <td>4323975</td>\n",
       "      <td>[[9.859783653953769e-05, -1.0827919874351947e-...</td>\n",
       "      <td>1.237136</td>\n",
       "      <td>1.160065</td>\n",
       "      <td>3.139855</td>\n",
       "      <td>3.094981</td>\n",
       "    </tr>\n",
       "    <tr>\n",
       "      <th>74596</th>\n",
       "      <td>2024-02-28</td>\n",
       "      <td>SBIN.NS</td>\n",
       "      <td>756.750000</td>\n",
       "      <td>741.000000</td>\n",
       "      <td>742.500000</td>\n",
       "      <td>749.849976</td>\n",
       "      <td>11263318</td>\n",
       "      <td>[[9.859783653953769e-05, -1.0827919874351947e-...</td>\n",
       "      <td>1.237136</td>\n",
       "      <td>1.160065</td>\n",
       "      <td>3.139855</td>\n",
       "      <td>3.094981</td>\n",
       "    </tr>\n",
       "    <tr>\n",
       "      <th>74597</th>\n",
       "      <td>2024-02-28</td>\n",
       "      <td>SUNPHARMA.NS</td>\n",
       "      <td>1587.449951</td>\n",
       "      <td>1562.650024</td>\n",
       "      <td>1573.849976</td>\n",
       "      <td>1586.500000</td>\n",
       "      <td>578316</td>\n",
       "      <td>[[9.859783653953769e-05, -1.0827919874351947e-...</td>\n",
       "      <td>1.237136</td>\n",
       "      <td>1.160065</td>\n",
       "      <td>3.139855</td>\n",
       "      <td>3.094981</td>\n",
       "    </tr>\n",
       "    <tr>\n",
       "      <th>74598</th>\n",
       "      <td>2024-02-28</td>\n",
       "      <td>TCS.NS</td>\n",
       "      <td>4154.899902</td>\n",
       "      <td>4089.000000</td>\n",
       "      <td>4118.950195</td>\n",
       "      <td>4095.600098</td>\n",
       "      <td>1939225</td>\n",
       "      <td>[[9.859783653953769e-05, -1.0827919874351947e-...</td>\n",
       "      <td>1.237136</td>\n",
       "      <td>1.160065</td>\n",
       "      <td>3.139855</td>\n",
       "      <td>3.094981</td>\n",
       "    </tr>\n",
       "    <tr>\n",
       "      <th>74599</th>\n",
       "      <td>2024-02-28</td>\n",
       "      <td>WIPRO.NS</td>\n",
       "      <td>530.950012</td>\n",
       "      <td>515.000000</td>\n",
       "      <td>517.700012</td>\n",
       "      <td>530.000000</td>\n",
       "      <td>6394528</td>\n",
       "      <td>[[9.859783653953769e-05, -1.0827919874351947e-...</td>\n",
       "      <td>1.237136</td>\n",
       "      <td>1.160065</td>\n",
       "      <td>3.139855</td>\n",
       "      <td>3.094981</td>\n",
       "    </tr>\n",
       "  </tbody>\n",
       "</table>\n",
       "<p>74600 rows × 12 columns</p>\n",
       "</div>"
      ],
      "text/plain": [
       "             date            tic        close         high          low  \\\n",
       "0      2009-01-13  ASIANPAINT.NS    91.699997    88.500000    91.235001   \n",
       "1      2009-01-13       CIPLA.NS   189.649994   184.000000   185.350006   \n",
       "2      2009-01-13     DRREDDY.NS   478.000000   448.000000   452.750000   \n",
       "3      2009-01-13        GAIL.NS    39.375019    37.875019    38.756268   \n",
       "4      2009-01-13      GRASIM.NS   209.852203   202.908554   204.891357   \n",
       "...           ...            ...          ...          ...          ...   \n",
       "74595  2024-02-28    RELIANCE.NS  2982.550049  2900.350098  2911.250000   \n",
       "74596  2024-02-28        SBIN.NS   756.750000   741.000000   742.500000   \n",
       "74597  2024-02-28   SUNPHARMA.NS  1587.449951  1562.650024  1573.849976   \n",
       "74598  2024-02-28         TCS.NS  4154.899902  4089.000000  4118.950195   \n",
       "74599  2024-02-28       WIPRO.NS   530.950012   515.000000   517.700012   \n",
       "\n",
       "              open    volume  \\\n",
       "0        88.500000     65800   \n",
       "1       185.000000    901712   \n",
       "2       465.750000    544994   \n",
       "3        38.606270   9334277   \n",
       "4       205.570282   1994905   \n",
       "...            ...       ...   \n",
       "74595  2966.000000   4323975   \n",
       "74596   749.849976  11263318   \n",
       "74597  1586.500000    578316   \n",
       "74598  4095.600098   1939225   \n",
       "74599   530.000000   6394528   \n",
       "\n",
       "                                                cov_list       f01       f02  \\\n",
       "0      [[0.0005821350723573744, 0.0001385649017777150...  0.646335  0.708096   \n",
       "1      [[0.0005821350723573744, 0.0001385649017777150...  0.646335  0.708096   \n",
       "2      [[0.0005821350723573744, 0.0001385649017777150...  0.646335  0.708096   \n",
       "3      [[0.0005821350723573744, 0.0001385649017777150...  0.646335  0.708096   \n",
       "4      [[0.0005821350723573744, 0.0001385649017777150...  0.646335  0.708096   \n",
       "...                                                  ...       ...       ...   \n",
       "74595  [[9.859783653953769e-05, -1.0827919874351947e-...  1.237136  1.160065   \n",
       "74596  [[9.859783653953769e-05, -1.0827919874351947e-...  1.237136  1.160065   \n",
       "74597  [[9.859783653953769e-05, -1.0827919874351947e-...  1.237136  1.160065   \n",
       "74598  [[9.859783653953769e-05, -1.0827919874351947e-...  1.237136  1.160065   \n",
       "74599  [[9.859783653953769e-05, -1.0827919874351947e-...  1.237136  1.160065   \n",
       "\n",
       "            f03       f04  \n",
       "0      0.085455  2.997396  \n",
       "1      0.085455  2.997396  \n",
       "2      0.085455  2.997396  \n",
       "3      0.085455  2.997396  \n",
       "4      0.085455  2.997396  \n",
       "...         ...       ...  \n",
       "74595  3.139855  3.094981  \n",
       "74596  3.139855  3.094981  \n",
       "74597  3.139855  3.094981  \n",
       "74598  3.139855  3.094981  \n",
       "74599  3.139855  3.094981  \n",
       "\n",
       "[74600 rows x 12 columns]"
      ]
     },
     "execution_count": 187,
     "metadata": {},
     "output_type": "execute_result"
    }
   ],
   "source": [
    "df_reduced"
   ]
  },
  {
   "cell_type": "code",
   "execution_count": 188,
   "metadata": {},
   "outputs": [],
   "source": [
    "data_df = df_reduced.copy()"
   ]
  },
  {
   "cell_type": "code",
   "execution_count": 189,
   "metadata": {},
   "outputs": [
    {
     "name": "stdout",
     "output_type": "stream",
     "text": [
      "Stored 'data_df' (DataFrame)\n"
     ]
    }
   ],
   "source": [
    "%store data_df"
   ]
  },
  {
   "cell_type": "code",
   "execution_count": 190,
   "metadata": {},
   "outputs": [
    {
     "name": "stdout",
     "output_type": "stream",
     "text": [
      "Missing values after feature reduction:\n",
      " date        0\n",
      "tic         0\n",
      "close       0\n",
      "high        0\n",
      "low         0\n",
      "open        0\n",
      "volume      0\n",
      "cov_list    0\n",
      "f01         0\n",
      "f02         0\n",
      "f03         0\n",
      "f04         0\n",
      "dtype: int64\n"
     ]
    }
   ],
   "source": [
    "# Check for missing values in the DataFrame after feature reduction\n",
    "missing_values = df_reduced.isnull().sum()\n",
    "print(\"Missing values after feature reduction:\\n\", missing_values)\n"
   ]
  },
  {
   "cell_type": "code",
   "execution_count": 191,
   "metadata": {},
   "outputs": [
    {
     "name": "stdout",
     "output_type": "stream",
     "text": [
      "Summary statistics of original features:\n",
      "                 atr           bbw           obv           cmf          macd  \\\n",
      "count  74600.000000  74600.000000  7.460000e+04  74600.000000  74600.000000   \n",
      "mean      25.806703     10.964878  1.720917e+10     -5.664056      4.202458   \n",
      "std       36.011353      6.575257  1.188765e+10      1.942654     32.233325   \n",
      "min        0.671089      1.267602 -8.752229e+07    -36.697901   -557.631883   \n",
      "25%        5.586614      6.623770  3.157494e+09     -6.601216     -2.864992   \n",
      "50%       12.436345      9.424698  1.893738e+10     -5.332098      1.237041   \n",
      "75%       31.207940     13.336876  2.605174e+10     -4.332058      8.712283   \n",
      "max      547.209021     73.872203  3.977656e+10     -1.911441    369.755924   \n",
      "\n",
      "                adx           sma           ema           cci           rsi  \n",
      "count  74600.000000  74600.000000  74600.000000  74600.000000  74600.000000  \n",
      "mean      21.928312   1083.592122   1083.608930     15.472947     52.599936  \n",
      "std        8.625510   1475.959709   1475.770063    111.965632     13.205146  \n",
      "min        5.721297     37.969550     38.241702   -530.789229      4.317245  \n",
      "25%       15.573064    217.753615    217.704834    -71.431892     43.204419  \n",
      "50%       20.187019    515.350000    514.808985     23.915253     52.733173  \n",
      "75%       26.549915   1362.084905   1361.117202    100.077625     62.170644  \n",
      "max       68.429494  11426.483398  11392.885084    593.530613     90.758233  \n",
      "\n",
      "Summary statistics of reduced features:\n",
      "                 f01           f02           f03           f04\n",
      "count  74600.000000  74600.000000  74600.000000  74600.000000\n",
      "mean       0.897182      0.970233      1.081116      3.164199\n",
      "std        0.187966      0.134558      0.710503      0.341495\n",
      "min        0.476943      0.197471      0.062394      2.033793\n",
      "25%        0.763399      0.898860      0.400505      2.921223\n",
      "50%        0.874272      0.974578      0.921109      3.165908\n",
      "75%        0.998486      1.055551      1.472829      3.401527\n",
      "max        2.400803      1.345091      3.141905      4.671796\n"
     ]
    }
   ],
   "source": [
    "# Summary statistics of original features\n",
    "original_features_summary = features_df.describe()\n",
    "\n",
    "# Summary statistics of reduced features\n",
    "reduced_features_summary = features_reduced_df.describe()\n",
    "\n",
    "print(\"Summary statistics of original features:\\n\", original_features_summary)\n",
    "print(\"\\nSummary statistics of reduced features:\\n\", reduced_features_summary)\n"
   ]
  },
  {
   "cell_type": "code",
   "execution_count": 192,
   "metadata": {},
   "outputs": [
    {
     "data": {
      "image/png": "[encoded data removed]",
      "text/plain": [
       "<Figure size 1200x600 with 2 Axes>"
      ]
     },
     "metadata": {},
     "output_type": "display_data"
    }
   ],
   "source": [
    "import matplotlib.pyplot as plt\n",
    "\n",
    "# Visualize original and reduced features\n",
    "fig, axs = plt.subplots(1, 2, figsize=(12, 6))\n",
    "\n",
    "# Plot original features\n",
    "for i, feature in enumerate(features_list):\n",
    "    axs[0].hist(features_df[feature], alpha=0.5, label=feature)\n",
    "axs[0].set_title('Original Features')\n",
    "axs[0].legend()\n",
    "\n",
    "# Plot reduced features\n",
    "for i, column in enumerate(features_reduced_df.columns):\n",
    "    axs[1].hist(features_reduced_df[column], alpha=0.5, label=column)\n",
    "axs[1].set_title('Reduced Features')\n",
    "axs[1].legend()\n",
    "\n",
    "plt.show()\n"
   ]
  }
 ],
 "metadata": {
  "kernelspec": {
   "display_name": "Python 3",
   "language": "python",
   "name": "python3"
  },
  "language_info": {
   "codemirror_mode": {
    "name": "ipython",
    "version": 3
   },
   "file_extension": ".py",
   "mimetype": "text/x-python",
   "name": "python",
   "nbconvert_exporter": "python",
   "pygments_lexer": "ipython3",
   "version": "3.10.11"
  }
 },
 "nbformat": 4,
 "nbformat_minor": 4
}
