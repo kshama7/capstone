{
 "cells": [
  {
   "cell_type": "markdown",
   "metadata": {},
   "source": [
    "# Portfolio Optimization using Deep Reinforcement Learning\n",
    "---"
   ]
  },
  {
   "cell_type": "markdown",
   "metadata": {},
   "source": [
    "## 6.0 Data Split\n",
    "---\n",
    "\n",
    "We will split both the close prices and the whole dataset into train and test (trade) data.\n",
    "\n",
    "We will use 80% of the data for training and then test on the remaining 20%.\n",
    "\n",
    "We will make use of the FinRL Library function of data_split to split our data into train and test"
   ]
  },
  {
   "cell_type": "markdown",
   "metadata": {},
   "source": [
    "### 6.1 Import Relevant Libraries"
   ]
  },
  {
   "cell_type": "code",
   "execution_count": 34,
   "metadata": {},
   "outputs": [],
   "source": [
    "import pandas as pd\n",
    "import numpy as np\n",
    "import ta\n",
    "from ta import add_all_ta_features\n",
    "from ta.utils import dropna\n",
    "from finrl.meta.preprocessor.preprocessors import data_split\n",
    "from finrl.meta.preprocessor.preprocessors import FeatureEngineer"
   ]
  },
  {
   "cell_type": "markdown",
   "metadata": {},
   "source": [
    "### 6.2 Load the data"
   ]
  },
  {
   "cell_type": "code",
   "execution_count": 35,
   "metadata": {},
   "outputs": [
    {
     "name": "stdout",
     "output_type": "stream",
     "text": [
      "Stored variables and their in-db values:\n",
      "data_df                          ->              date            tic        close     \n",
      "df                               ->              date            tic        close     \n",
      "df_close_full_stocks             ->             date   HCLTECH.NS  EICHERMOT.NS  HINDA\n",
      "filtered_stocks                  -> Index(['ITC.NS', 'NTPC.NS', 'HDFCBANK.NS', 'HINDUN\n"
     ]
    }
   ],
   "source": [
    "%store"
   ]
  },
  {
   "cell_type": "code",
   "execution_count": 36,
   "metadata": {},
   "outputs": [],
   "source": [
    "%store -r data_df\n",
    "%store -r filtered_stocks\n",
    "%store -r df_close_full_stocks"
   ]
  },
  {
   "cell_type": "code",
   "execution_count": 37,
   "metadata": {
    "scrolled": true
   },
   "outputs": [
    {
     "data": {
      "text/html": [
       "<div>\n",
       "<style scoped>\n",
       "    .dataframe tbody tr th:only-of-type {\n",
       "        vertical-align: middle;\n",
       "    }\n",
       "\n",
       "    .dataframe tbody tr th {\n",
       "        vertical-align: top;\n",
       "    }\n",
       "\n",
       "    .dataframe thead th {\n",
       "        text-align: right;\n",
       "    }\n",
       "</style>\n",
       "<table border=\"1\" class=\"dataframe\">\n",
       "  <thead>\n",
       "    <tr style=\"text-align: right;\">\n",
       "      <th></th>\n",
       "      <th>date</th>\n",
       "      <th>tic</th>\n",
       "      <th>close</th>\n",
       "      <th>high</th>\n",
       "      <th>low</th>\n",
       "      <th>open</th>\n",
       "      <th>volume</th>\n",
       "      <th>cov_list</th>\n",
       "      <th>f01</th>\n",
       "      <th>f02</th>\n",
       "      <th>f03</th>\n",
       "      <th>f04</th>\n",
       "    </tr>\n",
       "  </thead>\n",
       "  <tbody>\n",
       "    <tr>\n",
       "      <th>0</th>\n",
       "      <td>2009-01-13</td>\n",
       "      <td>ASIANPAINT.NS</td>\n",
       "      <td>91.699997</td>\n",
       "      <td>88.500000</td>\n",
       "      <td>91.235001</td>\n",
       "      <td>88.500000</td>\n",
       "      <td>65800</td>\n",
       "      <td>[[0.0005821350723573744, 0.0001385649017777150...</td>\n",
       "      <td>0.646335</td>\n",
       "      <td>0.708096</td>\n",
       "      <td>0.085455</td>\n",
       "      <td>2.997396</td>\n",
       "    </tr>\n",
       "    <tr>\n",
       "      <th>1</th>\n",
       "      <td>2009-01-13</td>\n",
       "      <td>CIPLA.NS</td>\n",
       "      <td>189.649994</td>\n",
       "      <td>184.000000</td>\n",
       "      <td>185.350006</td>\n",
       "      <td>185.000000</td>\n",
       "      <td>901712</td>\n",
       "      <td>[[0.0005821350723573744, 0.0001385649017777150...</td>\n",
       "      <td>0.646335</td>\n",
       "      <td>0.708096</td>\n",
       "      <td>0.085455</td>\n",
       "      <td>2.997396</td>\n",
       "    </tr>\n",
       "    <tr>\n",
       "      <th>2</th>\n",
       "      <td>2009-01-13</td>\n",
       "      <td>DRREDDY.NS</td>\n",
       "      <td>478.000000</td>\n",
       "      <td>448.000000</td>\n",
       "      <td>452.750000</td>\n",
       "      <td>465.750000</td>\n",
       "      <td>544994</td>\n",
       "      <td>[[0.0005821350723573744, 0.0001385649017777150...</td>\n",
       "      <td>0.646335</td>\n",
       "      <td>0.708096</td>\n",
       "      <td>0.085455</td>\n",
       "      <td>2.997396</td>\n",
       "    </tr>\n",
       "    <tr>\n",
       "      <th>3</th>\n",
       "      <td>2009-01-13</td>\n",
       "      <td>GAIL.NS</td>\n",
       "      <td>39.375019</td>\n",
       "      <td>37.875019</td>\n",
       "      <td>38.756268</td>\n",
       "      <td>38.606270</td>\n",
       "      <td>9334277</td>\n",
       "      <td>[[0.0005821350723573744, 0.0001385649017777150...</td>\n",
       "      <td>0.646335</td>\n",
       "      <td>0.708096</td>\n",
       "      <td>0.085455</td>\n",
       "      <td>2.997396</td>\n",
       "    </tr>\n",
       "    <tr>\n",
       "      <th>4</th>\n",
       "      <td>2009-01-13</td>\n",
       "      <td>GRASIM.NS</td>\n",
       "      <td>209.852203</td>\n",
       "      <td>202.908554</td>\n",
       "      <td>204.891357</td>\n",
       "      <td>205.570282</td>\n",
       "      <td>1994905</td>\n",
       "      <td>[[0.0005821350723573744, 0.0001385649017777150...</td>\n",
       "      <td>0.646335</td>\n",
       "      <td>0.708096</td>\n",
       "      <td>0.085455</td>\n",
       "      <td>2.997396</td>\n",
       "    </tr>\n",
       "  </tbody>\n",
       "</table>\n",
       "</div>"
      ],
      "text/plain": [
       "         date            tic       close        high         low        open  \\\n",
       "0  2009-01-13  ASIANPAINT.NS   91.699997   88.500000   91.235001   88.500000   \n",
       "1  2009-01-13       CIPLA.NS  189.649994  184.000000  185.350006  185.000000   \n",
       "2  2009-01-13     DRREDDY.NS  478.000000  448.000000  452.750000  465.750000   \n",
       "3  2009-01-13        GAIL.NS   39.375019   37.875019   38.756268   38.606270   \n",
       "4  2009-01-13      GRASIM.NS  209.852203  202.908554  204.891357  205.570282   \n",
       "\n",
       "    volume                                           cov_list       f01  \\\n",
       "0    65800  [[0.0005821350723573744, 0.0001385649017777150...  0.646335   \n",
       "1   901712  [[0.0005821350723573744, 0.0001385649017777150...  0.646335   \n",
       "2   544994  [[0.0005821350723573744, 0.0001385649017777150...  0.646335   \n",
       "3  9334277  [[0.0005821350723573744, 0.0001385649017777150...  0.646335   \n",
       "4  1994905  [[0.0005821350723573744, 0.0001385649017777150...  0.646335   \n",
       "\n",
       "        f02       f03       f04  \n",
       "0  0.708096  0.085455  2.997396  \n",
       "1  0.708096  0.085455  2.997396  \n",
       "2  0.708096  0.085455  2.997396  \n",
       "3  0.708096  0.085455  2.997396  \n",
       "4  0.708096  0.085455  2.997396  "
      ]
     },
     "execution_count": 37,
     "metadata": {},
     "output_type": "execute_result"
    }
   ],
   "source": [
    "data_df.head()"
   ]
  },
  {
   "cell_type": "code",
   "execution_count": 38,
   "metadata": {},
   "outputs": [
    {
     "data": {
      "text/html": [
       "<div>\n",
       "<style scoped>\n",
       "    .dataframe tbody tr th:only-of-type {\n",
       "        vertical-align: middle;\n",
       "    }\n",
       "\n",
       "    .dataframe tbody tr th {\n",
       "        vertical-align: top;\n",
       "    }\n",
       "\n",
       "    .dataframe thead th {\n",
       "        text-align: right;\n",
       "    }\n",
       "</style>\n",
       "<table border=\"1\" class=\"dataframe\">\n",
       "  <thead>\n",
       "    <tr style=\"text-align: right;\">\n",
       "      <th></th>\n",
       "      <th>date</th>\n",
       "      <th>HCLTECH.NS</th>\n",
       "      <th>EICHERMOT.NS</th>\n",
       "      <th>HINDALCO.NS</th>\n",
       "      <th>INDUSINDBK.NS</th>\n",
       "      <th>GRASIM.NS</th>\n",
       "      <th>AXISBANK.NS</th>\n",
       "      <th>ONGC.NS</th>\n",
       "      <th>BRITANNIA.NS</th>\n",
       "      <th>BPCL.NS</th>\n",
       "      <th>...</th>\n",
       "      <th>POWERGRID.NS</th>\n",
       "      <th>TATAMOTORS.NS</th>\n",
       "      <th>UPL.NS</th>\n",
       "      <th>BAJAJFINSV.NS</th>\n",
       "      <th>ICICIBANK.NS</th>\n",
       "      <th>DIVISLAB.NS</th>\n",
       "      <th>TCS.NS</th>\n",
       "      <th>TECHM.NS</th>\n",
       "      <th>BAJFINANCE.NS</th>\n",
       "      <th>BHARTIARTL.NS</th>\n",
       "    </tr>\n",
       "  </thead>\n",
       "  <tbody>\n",
       "    <tr>\n",
       "      <th>0</th>\n",
       "      <td>2008-01-01</td>\n",
       "      <td>83.612503</td>\n",
       "      <td>41.000000</td>\n",
       "      <td>197.665359</td>\n",
       "      <td>131.000000</td>\n",
       "      <td>589.437805</td>\n",
       "      <td>196.690002</td>\n",
       "      <td>209.149994</td>\n",
       "      <td>149.000000</td>\n",
       "      <td>88.283333</td>\n",
       "      <td>...</td>\n",
       "      <td>83.221893</td>\n",
       "      <td>146.884857</td>\n",
       "      <td>119.633331</td>\n",
       "      <td>2630.000000</td>\n",
       "      <td>225.454544</td>\n",
       "      <td>482.487488</td>\n",
       "      <td>269.250000</td>\n",
       "      <td>289.937500</td>\n",
       "      <td>43.721157</td>\n",
       "      <td>450.628632</td>\n",
       "    </tr>\n",
       "    <tr>\n",
       "      <th>1</th>\n",
       "      <td>2008-01-02</td>\n",
       "      <td>81.474998</td>\n",
       "      <td>41.000000</td>\n",
       "      <td>199.115448</td>\n",
       "      <td>132.199997</td>\n",
       "      <td>590.209290</td>\n",
       "      <td>208.990005</td>\n",
       "      <td>214.833328</td>\n",
       "      <td>151.960007</td>\n",
       "      <td>88.083336</td>\n",
       "      <td>...</td>\n",
       "      <td>83.081268</td>\n",
       "      <td>152.729584</td>\n",
       "      <td>125.983330</td>\n",
       "      <td>2629.000000</td>\n",
       "      <td>236.309097</td>\n",
       "      <td>480.225006</td>\n",
       "      <td>265.250000</td>\n",
       "      <td>287.212494</td>\n",
       "      <td>45.858635</td>\n",
       "      <td>442.832764</td>\n",
       "    </tr>\n",
       "    <tr>\n",
       "      <th>2</th>\n",
       "      <td>2008-01-03</td>\n",
       "      <td>79.187500</td>\n",
       "      <td>46.200001</td>\n",
       "      <td>200.656158</td>\n",
       "      <td>131.399994</td>\n",
       "      <td>580.951111</td>\n",
       "      <td>209.929993</td>\n",
       "      <td>224.083328</td>\n",
       "      <td>152.899994</td>\n",
       "      <td>91.666664</td>\n",
       "      <td>...</td>\n",
       "      <td>85.725021</td>\n",
       "      <td>156.370575</td>\n",
       "      <td>126.616669</td>\n",
       "      <td>2600.000000</td>\n",
       "      <td>229.981812</td>\n",
       "      <td>480.975006</td>\n",
       "      <td>261.250000</td>\n",
       "      <td>287.000000</td>\n",
       "      <td>45.664318</td>\n",
       "      <td>434.789032</td>\n",
       "    </tr>\n",
       "    <tr>\n",
       "      <th>3</th>\n",
       "      <td>2008-01-04</td>\n",
       "      <td>79.237503</td>\n",
       "      <td>43.500000</td>\n",
       "      <td>200.203018</td>\n",
       "      <td>135.000000</td>\n",
       "      <td>563.823486</td>\n",
       "      <td>214.889999</td>\n",
       "      <td>226.000000</td>\n",
       "      <td>153.199997</td>\n",
       "      <td>92.800003</td>\n",
       "      <td>...</td>\n",
       "      <td>87.750023</td>\n",
       "      <td>157.922775</td>\n",
       "      <td>129.133331</td>\n",
       "      <td>2604.699951</td>\n",
       "      <td>236.363632</td>\n",
       "      <td>481.250000</td>\n",
       "      <td>255.725006</td>\n",
       "      <td>286.750000</td>\n",
       "      <td>49.356327</td>\n",
       "      <td>432.107788</td>\n",
       "    </tr>\n",
       "    <tr>\n",
       "      <th>4</th>\n",
       "      <td>2008-01-07</td>\n",
       "      <td>79.000000</td>\n",
       "      <td>42.400002</td>\n",
       "      <td>198.481033</td>\n",
       "      <td>134.500000</td>\n",
       "      <td>559.194397</td>\n",
       "      <td>219.399994</td>\n",
       "      <td>223.666672</td>\n",
       "      <td>153.289993</td>\n",
       "      <td>88.333336</td>\n",
       "      <td>...</td>\n",
       "      <td>86.175018</td>\n",
       "      <td>154.799194</td>\n",
       "      <td>129.666672</td>\n",
       "      <td>2599.000000</td>\n",
       "      <td>250.899994</td>\n",
       "      <td>474.674988</td>\n",
       "      <td>252.199997</td>\n",
       "      <td>278.750000</td>\n",
       "      <td>49.356327</td>\n",
       "      <td>427.105804</td>\n",
       "    </tr>\n",
       "  </tbody>\n",
       "</table>\n",
       "<p>5 rows × 47 columns</p>\n",
       "</div>"
      ],
      "text/plain": [
       "         date  HCLTECH.NS  EICHERMOT.NS  HINDALCO.NS  INDUSINDBK.NS  \\\n",
       "0  2008-01-01   83.612503     41.000000   197.665359     131.000000   \n",
       "1  2008-01-02   81.474998     41.000000   199.115448     132.199997   \n",
       "2  2008-01-03   79.187500     46.200001   200.656158     131.399994   \n",
       "3  2008-01-04   79.237503     43.500000   200.203018     135.000000   \n",
       "4  2008-01-07   79.000000     42.400002   198.481033     134.500000   \n",
       "\n",
       "    GRASIM.NS  AXISBANK.NS     ONGC.NS  BRITANNIA.NS    BPCL.NS  ...  \\\n",
       "0  589.437805   196.690002  209.149994    149.000000  88.283333  ...   \n",
       "1  590.209290   208.990005  214.833328    151.960007  88.083336  ...   \n",
       "2  580.951111   209.929993  224.083328    152.899994  91.666664  ...   \n",
       "3  563.823486   214.889999  226.000000    153.199997  92.800003  ...   \n",
       "4  559.194397   219.399994  223.666672    153.289993  88.333336  ...   \n",
       "\n",
       "   POWERGRID.NS  TATAMOTORS.NS      UPL.NS  BAJAJFINSV.NS  ICICIBANK.NS  \\\n",
       "0     83.221893     146.884857  119.633331    2630.000000    225.454544   \n",
       "1     83.081268     152.729584  125.983330    2629.000000    236.309097   \n",
       "2     85.725021     156.370575  126.616669    2600.000000    229.981812   \n",
       "3     87.750023     157.922775  129.133331    2604.699951    236.363632   \n",
       "4     86.175018     154.799194  129.666672    2599.000000    250.899994   \n",
       "\n",
       "   DIVISLAB.NS      TCS.NS    TECHM.NS  BAJFINANCE.NS  BHARTIARTL.NS  \n",
       "0   482.487488  269.250000  289.937500      43.721157     450.628632  \n",
       "1   480.225006  265.250000  287.212494      45.858635     442.832764  \n",
       "2   480.975006  261.250000  287.000000      45.664318     434.789032  \n",
       "3   481.250000  255.725006  286.750000      49.356327     432.107788  \n",
       "4   474.674988  252.199997  278.750000      49.356327     427.105804  \n",
       "\n",
       "[5 rows x 47 columns]"
      ]
     },
     "execution_count": 38,
     "metadata": {},
     "output_type": "execute_result"
    }
   ],
   "source": [
    "df_close_full_stocks.head()"
   ]
  },
  {
   "cell_type": "code",
   "execution_count": 39,
   "metadata": {},
   "outputs": [],
   "source": [
    "# Close Prices data frame\n",
    "\n",
    "# Reset the Index to tic and date\n",
    "df_prices = data_df.reset_index().set_index(['tic', 'date']).sort_index()\n",
    "\n",
    "# Get all the Close Prices\n",
    "df_close = pd.DataFrame()\n",
    "\n",
    "for ticker in filtered_stocks:\n",
    "    series = df_prices.xs(ticker).close\n",
    "    df_close[ticker] = series"
   ]
  },
  {
   "cell_type": "code",
   "execution_count": 40,
   "metadata": {},
   "outputs": [
    {
     "data": {
      "text/plain": [
       "Index(['date', 'tic', 'close', 'high', 'low', 'open', 'volume', 'cov_list',\n",
       "       'f01', 'f02', 'f03', 'f04'],\n",
       "      dtype='object')"
      ]
     },
     "execution_count": 40,
     "metadata": {},
     "output_type": "execute_result"
    }
   ],
   "source": [
    "data_df.columns"
   ]
  },
  {
   "cell_type": "code",
   "execution_count": 41,
   "metadata": {},
   "outputs": [
    {
     "data": {
      "text/html": [
       "<div>\n",
       "<style scoped>\n",
       "    .dataframe tbody tr th:only-of-type {\n",
       "        vertical-align: middle;\n",
       "    }\n",
       "\n",
       "    .dataframe tbody tr th {\n",
       "        vertical-align: top;\n",
       "    }\n",
       "\n",
       "    .dataframe thead th {\n",
       "        text-align: right;\n",
       "    }\n",
       "</style>\n",
       "<table border=\"1\" class=\"dataframe\">\n",
       "  <thead>\n",
       "    <tr style=\"text-align: right;\">\n",
       "      <th></th>\n",
       "      <th>ITC.NS</th>\n",
       "      <th>NTPC.NS</th>\n",
       "      <th>HDFCBANK.NS</th>\n",
       "      <th>HINDUNILVR.NS</th>\n",
       "      <th>CIPLA.NS</th>\n",
       "      <th>GRASIM.NS</th>\n",
       "      <th>LT.NS</th>\n",
       "      <th>ASIANPAINT.NS</th>\n",
       "      <th>MARUTI.NS</th>\n",
       "      <th>RELIANCE.NS</th>\n",
       "      <th>POWERGRID.NS</th>\n",
       "      <th>SUNPHARMA.NS</th>\n",
       "      <th>WIPRO.NS</th>\n",
       "      <th>TCS.NS</th>\n",
       "      <th>DRREDDY.NS</th>\n",
       "      <th>INFY.NS</th>\n",
       "      <th>GAIL.NS</th>\n",
       "      <th>SBIN.NS</th>\n",
       "      <th>ICICIBANK.NS</th>\n",
       "      <th>HEROMOTOCO.NS</th>\n",
       "    </tr>\n",
       "    <tr>\n",
       "      <th>date</th>\n",
       "      <th></th>\n",
       "      <th></th>\n",
       "      <th></th>\n",
       "      <th></th>\n",
       "      <th></th>\n",
       "      <th></th>\n",
       "      <th></th>\n",
       "      <th></th>\n",
       "      <th></th>\n",
       "      <th></th>\n",
       "      <th></th>\n",
       "      <th></th>\n",
       "      <th></th>\n",
       "      <th></th>\n",
       "      <th></th>\n",
       "      <th></th>\n",
       "      <th></th>\n",
       "      <th></th>\n",
       "      <th></th>\n",
       "      <th></th>\n",
       "    </tr>\n",
       "  </thead>\n",
       "  <tbody>\n",
       "    <tr>\n",
       "      <th>2009-01-13</th>\n",
       "      <td>57.483334</td>\n",
       "      <td>142.875000</td>\n",
       "      <td>101.199997</td>\n",
       "      <td>263.850006</td>\n",
       "      <td>189.649994</td>\n",
       "      <td>209.852203</td>\n",
       "      <td>317.688873</td>\n",
       "      <td>91.699997</td>\n",
       "      <td>595.000000</td>\n",
       "      <td>261.956329</td>\n",
       "      <td>42.721886</td>\n",
       "      <td>114.885002</td>\n",
       "      <td>55.068752</td>\n",
       "      <td>134.250000</td>\n",
       "      <td>478.000000</td>\n",
       "      <td>155.300003</td>\n",
       "      <td>39.375019</td>\n",
       "      <td>118.629997</td>\n",
       "      <td>81.527275</td>\n",
       "      <td>814.000000</td>\n",
       "    </tr>\n",
       "    <tr>\n",
       "      <th>2009-01-14</th>\n",
       "      <td>57.833332</td>\n",
       "      <td>148.250000</td>\n",
       "      <td>104.470001</td>\n",
       "      <td>257.000000</td>\n",
       "      <td>189.500000</td>\n",
       "      <td>209.852203</td>\n",
       "      <td>319.733337</td>\n",
       "      <td>93.800003</td>\n",
       "      <td>604.000000</td>\n",
       "      <td>278.414307</td>\n",
       "      <td>42.412510</td>\n",
       "      <td>114.800003</td>\n",
       "      <td>57.116253</td>\n",
       "      <td>139.399994</td>\n",
       "      <td>487.000000</td>\n",
       "      <td>164.250000</td>\n",
       "      <td>40.818771</td>\n",
       "      <td>121.144997</td>\n",
       "      <td>82.000000</td>\n",
       "      <td>838.000000</td>\n",
       "    </tr>\n",
       "    <tr>\n",
       "      <th>2009-01-15</th>\n",
       "      <td>56.599998</td>\n",
       "      <td>141.750000</td>\n",
       "      <td>96.000000</td>\n",
       "      <td>252.199997</td>\n",
       "      <td>187.500000</td>\n",
       "      <td>205.994614</td>\n",
       "      <td>319.977783</td>\n",
       "      <td>93.790001</td>\n",
       "      <td>598.200012</td>\n",
       "      <td>265.145050</td>\n",
       "      <td>41.709385</td>\n",
       "      <td>112.489998</td>\n",
       "      <td>53.955002</td>\n",
       "      <td>130.750000</td>\n",
       "      <td>480.000000</td>\n",
       "      <td>157.987503</td>\n",
       "      <td>38.025021</td>\n",
       "      <td>117.500000</td>\n",
       "      <td>78.000000</td>\n",
       "      <td>840.000000</td>\n",
       "    </tr>\n",
       "    <tr>\n",
       "      <th>2009-01-16</th>\n",
       "      <td>57.566666</td>\n",
       "      <td>150.833328</td>\n",
       "      <td>94.455002</td>\n",
       "      <td>252.500000</td>\n",
       "      <td>184.850006</td>\n",
       "      <td>203.371460</td>\n",
       "      <td>324.399994</td>\n",
       "      <td>94.400002</td>\n",
       "      <td>597.900024</td>\n",
       "      <td>281.385895</td>\n",
       "      <td>43.003136</td>\n",
       "      <td>113.394997</td>\n",
       "      <td>54.675003</td>\n",
       "      <td>129.750000</td>\n",
       "      <td>454.899994</td>\n",
       "      <td>159.237503</td>\n",
       "      <td>39.375019</td>\n",
       "      <td>117.660004</td>\n",
       "      <td>77.763634</td>\n",
       "      <td>849.900024</td>\n",
       "    </tr>\n",
       "    <tr>\n",
       "      <th>2009-01-19</th>\n",
       "      <td>58.283333</td>\n",
       "      <td>151.583328</td>\n",
       "      <td>95.449997</td>\n",
       "      <td>254.949997</td>\n",
       "      <td>185.000000</td>\n",
       "      <td>200.563156</td>\n",
       "      <td>327.333344</td>\n",
       "      <td>93.574997</td>\n",
       "      <td>585.099976</td>\n",
       "      <td>285.717529</td>\n",
       "      <td>44.381260</td>\n",
       "      <td>113.894997</td>\n",
       "      <td>54.112503</td>\n",
       "      <td>129.475006</td>\n",
       "      <td>461.700012</td>\n",
       "      <td>159.093750</td>\n",
       "      <td>40.425018</td>\n",
       "      <td>118.300003</td>\n",
       "      <td>80.800003</td>\n",
       "      <td>846.000000</td>\n",
       "    </tr>\n",
       "  </tbody>\n",
       "</table>\n",
       "</div>"
      ],
      "text/plain": [
       "               ITC.NS     NTPC.NS  HDFCBANK.NS  HINDUNILVR.NS    CIPLA.NS  \\\n",
       "date                                                                        \n",
       "2009-01-13  57.483334  142.875000   101.199997     263.850006  189.649994   \n",
       "2009-01-14  57.833332  148.250000   104.470001     257.000000  189.500000   \n",
       "2009-01-15  56.599998  141.750000    96.000000     252.199997  187.500000   \n",
       "2009-01-16  57.566666  150.833328    94.455002     252.500000  184.850006   \n",
       "2009-01-19  58.283333  151.583328    95.449997     254.949997  185.000000   \n",
       "\n",
       "             GRASIM.NS       LT.NS  ASIANPAINT.NS   MARUTI.NS  RELIANCE.NS  \\\n",
       "date                                                                         \n",
       "2009-01-13  209.852203  317.688873      91.699997  595.000000   261.956329   \n",
       "2009-01-14  209.852203  319.733337      93.800003  604.000000   278.414307   \n",
       "2009-01-15  205.994614  319.977783      93.790001  598.200012   265.145050   \n",
       "2009-01-16  203.371460  324.399994      94.400002  597.900024   281.385895   \n",
       "2009-01-19  200.563156  327.333344      93.574997  585.099976   285.717529   \n",
       "\n",
       "            POWERGRID.NS  SUNPHARMA.NS   WIPRO.NS      TCS.NS  DRREDDY.NS  \\\n",
       "date                                                                        \n",
       "2009-01-13     42.721886    114.885002  55.068752  134.250000  478.000000   \n",
       "2009-01-14     42.412510    114.800003  57.116253  139.399994  487.000000   \n",
       "2009-01-15     41.709385    112.489998  53.955002  130.750000  480.000000   \n",
       "2009-01-16     43.003136    113.394997  54.675003  129.750000  454.899994   \n",
       "2009-01-19     44.381260    113.894997  54.112503  129.475006  461.700012   \n",
       "\n",
       "               INFY.NS    GAIL.NS     SBIN.NS  ICICIBANK.NS  HEROMOTOCO.NS  \n",
       "date                                                                        \n",
       "2009-01-13  155.300003  39.375019  118.629997     81.527275     814.000000  \n",
       "2009-01-14  164.250000  40.818771  121.144997     82.000000     838.000000  \n",
       "2009-01-15  157.987503  38.025021  117.500000     78.000000     840.000000  \n",
       "2009-01-16  159.237503  39.375019  117.660004     77.763634     849.900024  \n",
       "2009-01-19  159.093750  40.425018  118.300003     80.800003     846.000000  "
      ]
     },
     "execution_count": 41,
     "metadata": {},
     "output_type": "execute_result"
    }
   ],
   "source": [
    "df_close.head()"
   ]
  },
  {
   "cell_type": "code",
   "execution_count": 42,
   "metadata": {},
   "outputs": [],
   "source": [
    "df_close = df_close.reset_index()"
   ]
  },
  {
   "cell_type": "markdown",
   "metadata": {},
   "source": [
    "### 6.3 Split the Data"
   ]
  },
  {
   "cell_type": "code",
   "execution_count": 43,
   "metadata": {},
   "outputs": [],
   "source": [
    "# Define the start and end dates for the train and test data\n",
    "\n",
    "train_pct = 0.8 # percentage of train data\n",
    "date_list = list(data_df.date.unique()) # List of dates in the data\n",
    "\n",
    "date_list_len = len(date_list) # len of the date list\n",
    "train_data_len = int(train_pct * date_list_len) # length of the train data\n",
    "\n",
    "train_start_date = date_list[0]\n",
    "train_end_date = date_list[train_data_len]\n",
    "\n",
    "test_start_date = date_list[train_data_len+1]\n",
    "test_end_date = date_list[-1]"
   ]
  },
  {
   "cell_type": "code",
   "execution_count": 44,
   "metadata": {},
   "outputs": [
    {
     "name": "stdout",
     "output_type": "stream",
     "text": [
      "Training Data:  from  2009-01-13  to  2021-02-22\n"
     ]
    }
   ],
   "source": [
    "print('Training Data: ', 'from ', train_start_date, ' to ', train_end_date)"
   ]
  },
  {
   "cell_type": "code",
   "execution_count": 45,
   "metadata": {},
   "outputs": [
    {
     "name": "stdout",
     "output_type": "stream",
     "text": [
      "Testing Data:  from  2021-02-23  to  2024-02-28\n"
     ]
    }
   ],
   "source": [
    "print('Testing Data: ', 'from ', test_start_date, ' to ', test_end_date)"
   ]
  },
  {
   "cell_type": "code",
   "execution_count": 46,
   "metadata": {},
   "outputs": [],
   "source": [
    "# Split the whole dataset\n",
    "train_data = data_split(data_df, train_start_date, train_end_date)\n",
    "test_data = data_split(data_df, test_start_date, test_end_date)\n",
    "\n",
    "# Split the Close Prices dataset\n",
    "prices_train_data = df_close[df_close['date']<=train_end_date]\n",
    "prices_test_data = df_close[df_close['date']>=test_start_date]\n",
    "\n",
    "# split the Close Prices of all stocks\n",
    "prices_full_train = df_close_full_stocks[df_close_full_stocks['date']<=train_end_date]\n",
    "prices_full_test = df_close_full_stocks[df_close_full_stocks['date']>=test_start_date]"
   ]
  },
  {
   "cell_type": "code",
   "execution_count": null,
   "metadata": {},
   "outputs": [],
   "source": []
  },
  {
   "cell_type": "markdown",
   "metadata": {},
   "source": [
    "### 6.4 Store the Dataframes"
   ]
  },
  {
   "cell_type": "code",
   "execution_count": 47,
   "metadata": {},
   "outputs": [],
   "source": [
    "prices_train = prices_train_data.copy()\n",
    "prices_test = prices_test_data.copy()\n",
    "\n",
    "train_df = train_data.copy()\n",
    "test_df = test_data.copy()\n",
    "\n",
    "prices_full_train_df = prices_full_train.copy()\n",
    "prices_full_test_df = prices_full_test.copy()"
   ]
  },
  {
   "cell_type": "code",
   "execution_count": 48,
   "metadata": {},
   "outputs": [
    {
     "data": {
      "text/plain": [
       "(59660, 12)"
      ]
     },
     "execution_count": 48,
     "metadata": {},
     "output_type": "execute_result"
    }
   ],
   "source": [
    "train_df.shape"
   ]
  },
  {
   "cell_type": "code",
   "execution_count": 49,
   "metadata": {},
   "outputs": [
    {
     "data": {
      "text/plain": [
       "(14900, 12)"
      ]
     },
     "execution_count": 49,
     "metadata": {},
     "output_type": "execute_result"
    }
   ],
   "source": [
    "test_df.shape"
   ]
  },
  {
   "cell_type": "code",
   "execution_count": 50,
   "metadata": {},
   "outputs": [
    {
     "name": "stdout",
     "output_type": "stream",
     "text": [
      "Stored 'prices_train' (DataFrame)\n",
      "Stored 'prices_test' (DataFrame)\n",
      "Stored 'train_df' (DataFrame)\n",
      "Stored 'test_df' (DataFrame)\n",
      "Stored 'prices_full_train_df' (DataFrame)\n",
      "Stored 'prices_full_test_df' (DataFrame)\n"
     ]
    }
   ],
   "source": [
    "%store prices_train\n",
    "%store prices_test\n",
    "\n",
    "%store train_df\n",
    "%store test_df\n",
    "\n",
    "%store prices_full_train_df\n",
    "%store prices_full_test_df"
   ]
  },
  {
   "cell_type": "code",
   "execution_count": null,
   "metadata": {},
   "outputs": [],
   "source": []
  },
  {
   "cell_type": "code",
   "execution_count": null,
   "metadata": {},
   "outputs": [],
   "source": []
  }
 ],
 "metadata": {
  "kernelspec": {
   "display_name": "Python 3",
   "language": "python",
   "name": "python3"
  },
  "language_info": {
   "codemirror_mode": {
    "name": "ipython",
    "version": 3
   },
   "file_extension": ".py",
   "mimetype": "text/x-python",
   "name": "python",
   "nbconvert_exporter": "python",
   "pygments_lexer": "ipython3",
   "version": "3.10.11"
  }
 },
 "nbformat": 4,
 "nbformat_minor": 4
}
